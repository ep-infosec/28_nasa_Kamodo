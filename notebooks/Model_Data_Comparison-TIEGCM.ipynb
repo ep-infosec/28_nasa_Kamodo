{
 "cells": [
  {
   "cell_type": "markdown",
   "id": "b29e024f",
   "metadata": {},
   "source": [
    "# Kamodo Model/Data Comparison Notebook\n",
    "\n",
    "## TIEGCM Model/Data comparison\n",
    "#### Start with extracting satellite positions from model output"
   ]
  },
  {
   "cell_type": "code",
   "execution_count": null,
   "id": "880f7f6b",
   "metadata": {},
   "outputs": [],
   "source": [
    "# Import some libraries\n",
    "from kamodo import Kamodo\n",
    "import kamodo_ccmc.flythrough.model_wrapper as MW\n",
    "from kamodo_ccmc.flythrough.model_wrapper import Choose_Model\n",
    "from kamodo_ccmc.flythrough import SatelliteFlythrough as SF\n",
    "from kamodo_ccmc.flythrough.plots import SatPlot4D\n",
    "from kamodo_ccmc.readers.hapi import HAPI\n",
    "from kamodo_ccmc.flythrough.wrapper_output import Functionalize_TimeSeries"
   ]
  },
  {
   "cell_type": "code",
   "execution_count": null,
   "id": "1fb95f81",
   "metadata": {},
   "outputs": [],
   "source": [
    "%%bash\n",
    "touch ModelFlythrough_TIEGCM\n",
    "rm -f ModelFlythrough_TIEGCM*\n",
    "# Flythrough complains if overwriting files, so make sure they are gone first. BE CAREFUL HERE"
   ]
  },
  {
   "cell_type": "code",
   "execution_count": null,
   "id": "135627e0",
   "metadata": {},
   "outputs": [],
   "source": [
    "# Set some values for the next few steps\n",
    "# NOTE: The TIEGCM data from this run is stored locally (2GB)\n",
    "model='TIEGCM'\n",
    "file_dir = '/Users/ddezeeuw/KAMODO_DEMO/TIE-GCM/Uriel_Ramirez_012517_IT_1/'"
   ]
  },
  {
   "cell_type": "code",
   "execution_count": null,
   "id": "735e6891",
   "metadata": {},
   "outputs": [],
   "source": [
    "# Show the time periods covered by the model output we are using\n",
    "MW.File_Times(model, file_dir)"
   ]
  },
  {
   "cell_type": "code",
   "execution_count": null,
   "id": "5ccb1ce5",
   "metadata": {},
   "outputs": [],
   "source": [
    "# Show the variables included in the model output\n",
    "MW.File_Variables(model, file_dir)"
   ]
  },
  {
   "cell_type": "code",
   "execution_count": null,
   "id": "6c0f4da9",
   "metadata": {},
   "outputs": [],
   "source": [
    "# Set input values for RealFlight function call\n",
    "dataset = 'cnofs'\n",
    "start_utcts, end_utcts = 1426638000, 1426665600\n",
    "variable_list = ['T_i'] #list of desired variable names from above list, must be in list form\n",
    "coord_type = 'GEO'  #GEO cartesian coordinates as the sample coordinate system for trajectory.\n",
    "output_name = 'ModelFlythrough_TIEGCM.csv' #filename for DATA output with extension\n",
    "plot_coord = 'GSE'  #coordinate system chosen for output plots"
   ]
  },
  {
   "cell_type": "code",
   "execution_count": null,
   "id": "fd401275",
   "metadata": {},
   "outputs": [],
   "source": [
    "#run RealFlight with cnofs satellite trajectory (CINDI)\n",
    "results = SF.RealFlight(dataset, start_utcts, end_utcts, model, file_dir, variable_list, coord_type, \n",
    "                       output_name=output_name, plot_coord=plot_coord)\n",
    "#open plots in separate internet browser window for interactivity. Nothing will open here."
   ]
  },
  {
   "cell_type": "code",
   "execution_count": null,
   "id": "4d25f81d",
   "metadata": {},
   "outputs": [],
   "source": [
    "# The results from the satellite extraction can be plugged into Kamodo easily\n",
    "kamodo_object = SF.WO.Functionalize_SFResults(model,results)\n",
    "kamodo_object"
   ]
  },
  {
   "cell_type": "code",
   "execution_count": null,
   "id": "ecea81dc",
   "metadata": {},
   "outputs": [],
   "source": [
    "# Done with results, delete to save memory\n",
    "del results"
   ]
  },
  {
   "cell_type": "code",
   "execution_count": null,
   "id": "01b25de2",
   "metadata": {},
   "outputs": [],
   "source": [
    "# Using Kamodo to generate a plot of the chosen variable\n",
    "kamodo_object.plot('T_i')"
   ]
  },
  {
   "cell_type": "markdown",
   "id": "742d6ac4",
   "metadata": {},
   "source": [
    "#### Get CINDI data via HAPI server from CDAWeb"
   ]
  },
  {
   "cell_type": "code",
   "execution_count": null,
   "id": "611b98e6",
   "metadata": {},
   "outputs": [],
   "source": [
    "# Set details of data and grab it\n",
    "server = 'https://cdaweb.gsfc.nasa.gov/hapi'\n",
    "dataset = 'CNOFS_CINDI_IVM_500MS'\n",
    "parameters = 'ionTemperature'\n",
    "start      = '2015-03-18T00:20:00'\n",
    "stop       = '2015-03-18T08:00:00'\n",
    "\n",
    "hapiCDA = HAPI(server, dataset, parameters, start, stop)"
   ]
  },
  {
   "cell_type": "code",
   "execution_count": null,
   "id": "b20f8e28",
   "metadata": {},
   "outputs": [],
   "source": [
    "# Plot The values\n",
    "hapiCDA.plot('ionTemperature')"
   ]
  },
  {
   "cell_type": "code",
   "execution_count": null,
   "id": "4cec5d38",
   "metadata": {},
   "outputs": [],
   "source": [
    "# You can copy data from one Kamodo object into another to plot together\n",
    "kamodo_object['T_iCINDI']=hapiCDA['ionTemperature']"
   ]
  },
  {
   "cell_type": "code",
   "execution_count": null,
   "id": "c705d1b4",
   "metadata": {},
   "outputs": [],
   "source": [
    "# Interpolate model data T_i onto same time series as observed data\n",
    "interpT_i = kamodo_object.T_i(hapiCDA.dtarray)\n",
    "\n",
    "# Compute difference of two identical length arrays\n",
    "deltaT_i = hapiCDA.variables['ionTemperature']['data'] - interpT_i\n",
    "\n",
    "# Add the new time series back into the Kamodo object for further analysis/plotting\n",
    "kamodo_object = Functionalize_TimeSeries(hapiCDA.tsarray, 'DIFFERENCE', 'K', deltaT_i, kamodo_object=kamodo_object)"
   ]
  },
  {
   "cell_type": "code",
   "execution_count": null,
   "id": "db8a32de",
   "metadata": {},
   "outputs": [],
   "source": [
    "# Now we can plot model and data on the same figure with the difference\n",
    "kamodo_object.plot('T_i','T_iCINDI','DIFFERENCE')"
   ]
  },
  {
   "cell_type": "code",
   "execution_count": null,
   "id": "02cbf4f3",
   "metadata": {},
   "outputs": [],
   "source": []
  }
 ],
 "metadata": {
  "kernelspec": {
   "display_name": "Python 3 (ipykernel)",
   "language": "python",
   "name": "python3"
  },
  "language_info": {
   "codemirror_mode": {
    "name": "ipython",
    "version": 3
   },
   "file_extension": ".py",
   "mimetype": "text/x-python",
   "name": "python",
   "nbconvert_exporter": "python",
   "pygments_lexer": "ipython3",
   "version": "3.7.13"
  }
 },
 "nbformat": 4,
 "nbformat_minor": 5
}
