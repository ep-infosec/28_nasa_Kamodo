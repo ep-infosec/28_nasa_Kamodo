{
 "cells": [
  {
   "cell_type": "markdown",
   "id": "b29e024f",
   "metadata": {},
   "source": [
    "# Kamodo Model/Data Comparison Notebook\n",
    "\n",
    "## CCMC RoR extraction model/data comparison\n",
    "#### Start with load satellite extractions from model output"
   ]
  },
  {
   "cell_type": "code",
   "execution_count": null,
   "id": "880f7f6b",
   "metadata": {},
   "outputs": [],
   "source": [
    "# Import some libraries\n",
    "from kamodo import Kamodo\n",
    "from kamodo_ccmc.readers.hapi import HAPI\n",
    "from kamodo_ccmc.readers.sat_extractions import SATEXTRACT,ror_show_info\n",
    "from kamodo_ccmc.flythrough.wrapper_output import Functionalize_TimeSeries"
   ]
  },
  {
   "cell_type": "code",
   "execution_count": null,
   "id": "61e3a923",
   "metadata": {},
   "outputs": [],
   "source": [
    "# Look up information on a specific run\n",
    "runID     = '13819'\n",
    "ror_show_info(runID)"
   ]
  },
  {
   "cell_type": "code",
   "execution_count": null,
   "id": "08106d12",
   "metadata": {},
   "outputs": [],
   "source": [
    "# Load this run data in specified coordinates for given satellite\n",
    "coord     = 'GSE'     # Can choose from GSE, GSM, SM\n",
    "satellite = 'GOES-12'\n",
    "\n",
    "ror = SATEXTRACT(runID, coord, satellite, debug=0)\n",
    "ror"
   ]
  },
  {
   "cell_type": "code",
   "execution_count": null,
   "id": "dacca16d",
   "metadata": {},
   "outputs": [],
   "source": [
    "# Plot magnetic field\n",
    "ror.get_plot(type=\"1Dvar\", var=\"B\")"
   ]
  },
  {
   "cell_type": "code",
   "execution_count": null,
   "id": "1c0e1b9a",
   "metadata": {},
   "outputs": [],
   "source": [
    "# Plot 3D magnetic field with vectors, grouped by day with slider\n",
    "ror.get_plot(type=\"3Dvar\", var=\"B_x\", groupby=\"day\", quiver=True, quiverskip=10)"
   ]
  },
  {
   "cell_type": "markdown",
   "id": "13a24a7b",
   "metadata": {},
   "source": [
    "#### Read the same satellite and dates from CDAWeb"
   ]
  },
  {
   "cell_type": "code",
   "execution_count": null,
   "id": "250af982",
   "metadata": {},
   "outputs": [],
   "source": [
    "server = 'https://cdaweb.gsfc.nasa.gov/hapi'\n",
    "dataset = 'GOES12_K0_MAG'\n",
    "parameters = 'B_GSE_c'\n",
    "start      = ror.start\n",
    "stop       = ror.stop\n",
    "\n",
    "hapi2 = HAPI(server, dataset, parameters, start, stop)"
   ]
  },
  {
   "cell_type": "code",
   "execution_count": null,
   "id": "1ea67fd9",
   "metadata": {},
   "outputs": [],
   "source": [
    "# Plot the magnetic field as observed by GOES 12\n",
    "hapi2.get_plot(type=\"1Dvar\", var=\"B_GSE_c\")"
   ]
  },
  {
   "cell_type": "markdown",
   "id": "fa1f817b",
   "metadata": {},
   "source": [
    "#### Model / Data Comparison"
   ]
  },
  {
   "cell_type": "code",
   "execution_count": null,
   "id": "5223a29c",
   "metadata": {},
   "outputs": [],
   "source": [
    "# Add variable from one Kamodo object to another to plot together\n",
    "ror['B_z__GSE_GOES12']=hapi2['B_z__GSE_c']"
   ]
  },
  {
   "cell_type": "code",
   "execution_count": null,
   "id": "99df7cf2",
   "metadata": {},
   "outputs": [],
   "source": [
    "# Interpolate model data B_z onto same time series as observed data\n",
    "interpB_z = ror.B_z__GSE(hapi2.dtarray)\n",
    "\n",
    "# Compute difference of two identical length arrays\n",
    "deltaB_z = hapi2.variables['B_GSE_c']['data'][:,2] - interpB_z\n",
    "\n",
    "# Add the new time series back into the Kamodo object for further analysis/plotting\n",
    "ror = Functionalize_TimeSeries(hapi2.tsarray, 'DIFFERENCE', 'nT', deltaB_z, kamodo_object=ror)"
   ]
  },
  {
   "cell_type": "code",
   "execution_count": null,
   "id": "b2276189",
   "metadata": {},
   "outputs": [],
   "source": [
    "# Now we can plot model and data on the same figure with the difference\n",
    "ror.plot('B_z__GSE','B_z__GSE_GOES12','DIFFERENCE')"
   ]
  },
  {
   "cell_type": "code",
   "execution_count": null,
   "id": "64b19cb7",
   "metadata": {},
   "outputs": [],
   "source": []
  }
 ],
 "metadata": {
  "kernelspec": {
   "display_name": "Python 3 (ipykernel)",
   "language": "python",
   "name": "python3"
  },
  "language_info": {
   "codemirror_mode": {
    "name": "ipython",
    "version": 3
   },
   "file_extension": ".py",
   "mimetype": "text/x-python",
   "name": "python",
   "nbconvert_exporter": "python",
   "pygments_lexer": "ipython3",
   "version": "3.7.13"
  }
 },
 "nbformat": 4,
 "nbformat_minor": 5
}
