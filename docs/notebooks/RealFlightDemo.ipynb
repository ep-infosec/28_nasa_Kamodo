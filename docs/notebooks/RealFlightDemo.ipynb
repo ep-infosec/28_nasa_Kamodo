{
 "cells": [
  {
   "cell_type": "markdown",
   "id": "e9980461",
   "metadata": {},
   "source": [
    "# Demo notebook for Kamodo Flythrough \"RealFlight\" function\n",
    "The RealFlight function flies a real satellite trajectory through the chosen model data.\n",
    "You may run the notebook as is if you have the sample data file, but you must\n",
    "change the 'file_dir', 'output_name', and 'plot_output' variables in block 2 to have the correct file path.\n",
    "See the InputOutputDemo notebook for more information on what can be done once the results are functionalized."
   ]
  },
  {
   "cell_type": "code",
   "execution_count": null,
   "id": "9f2b28b9",
   "metadata": {
    "scrolled": true
   },
   "outputs": [],
   "source": [
    "from kamodo_ccmc.flythrough import SatelliteFlythrough as SF\n",
    "help(SF.RealFlight)"
   ]
  },
  {
   "cell_type": "code",
   "execution_count": null,
   "id": "reflected-aggregate",
   "metadata": {},
   "outputs": [],
   "source": [
    "import datetime as dt\n",
    "\n",
    "# Choose input values for RealFlight function call.\n",
    "model = 'GITM'  # Choose the model.\n",
    "# Full file path to model output data.\n",
    "file_dir = 'D:/GITM/Storm_201303/'  \n",
    "# Example files from https://ccmc.gsfc.nasa.gov/RoR_WWW/output_files/KAMODO_DEMO/\n",
    "start_utcts = dt.datetime(2013, 3, 16, 0).replace(tzinfo=dt.timezone.utc).timestamp()\n",
    "end_utcts = dt.datetime(2013, 3, 17, 0).replace(tzinfo=dt.timezone.utc).timestamp()-1\n",
    "variables = ['T_i', 'T_e']  # one or more variable names to retrieve\n",
    "coord_sys = 'GEO'  # requested cartesian system for satellite positions\n",
    "dataset = 'cnofs' \n",
    "# Use https://sscweb.gsfc.nasa.gov/ to find the satellite name and time range desired.\n",
    "coord_type = 'GEO'  # Desired coordinate system for retrieved trajectory.\n",
    "# Choose naming convention for output files\n",
    "output_name = 'C:/Users/rringuet/Kamodo_env/RealFlightExample_GITM.txt' \n",
    "plot_coord = 'GSE'  # Coordinate system chosen for output plots\n",
    "# See https://sscweb.gsfc.nasa.gov/users_guide/Appendix_C.shtml for a description of coordinate types"
   ]
  },
  {
   "cell_type": "markdown",
   "id": "d185875b",
   "metadata": {},
   "source": [
    "Block 4 will break if the output file already exists. This is to prevent users from accidentally overwriting a previously created file, especially since some flythrough execution times may take a while depending on various factors. So, the next block removes the file if it already exists. Avoid executing block 3 if this is not the desired behavior."
   ]
  },
  {
   "cell_type": "code",
   "execution_count": null,
   "id": "575811bd",
   "metadata": {},
   "outputs": [],
   "source": [
    "# Remove the previously created output file.\n",
    "import os\n",
    "if os.path.isfile(output_name):\n",
    "    os.remove(output_name)\n",
    "    print(output_name, 'file removed.')\n",
    "else:\n",
    "    print(output_name, 'file not found.')"
   ]
  },
  {
   "cell_type": "code",
   "execution_count": null,
   "id": "affecting-electronics",
   "metadata": {
    "scrolled": true
   },
   "outputs": [],
   "source": [
    "# Run RealFlight flythrough command. \n",
    "results = SF.RealFlight(dataset, start_utcts, end_utcts, model, file_dir, variables, \n",
    "                        coord_type=coord_type, output_name=output_name, plot_coord=plot_coord)\n",
    "# Open plots in separate internet browser window for interactivity. Nothing will open here."
   ]
  },
  {
   "cell_type": "code",
   "execution_count": null,
   "id": "15b49bb9",
   "metadata": {},
   "outputs": [],
   "source": [
    "# Functionalize the output.\n",
    "kamodo_object = SF.O.Functionalize_SFResults(model, results)\n",
    "kamodo_object"
   ]
  },
  {
   "cell_type": "code",
   "execution_count": null,
   "id": "9d06f395",
   "metadata": {},
   "outputs": [],
   "source": []
  }
 ],
 "metadata": {
  "kernelspec": {
   "display_name": "Python 3 (ipykernel)",
   "language": "python",
   "name": "python3"
  },
  "language_info": {
   "codemirror_mode": {
    "name": "ipython",
    "version": 3
   },
   "file_extension": ".py",
   "mimetype": "text/x-python",
   "name": "python",
   "nbconvert_exporter": "python",
   "pygments_lexer": "ipython3",
   "version": "3.7.13"
  }
 },
 "nbformat": 4,
 "nbformat_minor": 5
}
