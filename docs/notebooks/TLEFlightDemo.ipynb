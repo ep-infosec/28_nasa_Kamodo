{
 "cells": [
  {
   "cell_type": "markdown",
   "id": "e9980461",
   "metadata": {},
   "source": [
    "# Demo notebook for Kamodo Flythrough \"TLEFlight\" function\n",
    "The TLEFlight function uses two-line elements to calculate a satellite trajectory using sgp4, \n",
    "and then flies that satellite trajectory through the chosen model data.\n",
    "You may run the notebook as is if you have the sample data file, but you must\n",
    "change the 'tle_file' and 'file_dir' variables in block 2 to have the correct file paths.\n",
    "See the InputOutputDemo notebook for more information on what can be done once the results are functionalized."
   ]
  },
  {
   "cell_type": "code",
   "execution_count": null,
   "id": "9f2b28b9",
   "metadata": {
    "scrolled": true
   },
   "outputs": [],
   "source": [
    "from kamodo_ccmc.flythrough import SatelliteFlythrough as SF\n",
    "help(SF.TLEFlight)"
   ]
  },
  {
   "cell_type": "code",
   "execution_count": null,
   "id": "reflected-aggregate",
   "metadata": {},
   "outputs": [],
   "source": [
    "# Import satellite flythrough code\n",
    "from kamodo_ccmc.flythrough import SatelliteFlythrough as SF\n",
    "import datetime as dt\n",
    "\n",
    "# Choose input values for TLEFlight function call.\n",
    "tle_file = 'C:/Users/rringuet/Kamodo_Data/TIEGCM/Uriel_Ramirez_012517_IT_1/GRACE1_TLEs.txt'\n",
    "# Use space-track.org to retrieve TLEs for time range specified below. \n",
    "# GRACE 1's satellite number is 27391.\n",
    "# Tip: add a day on each end when requesting the TLE data to cover the full range.\n",
    "time_cadence = 60.  # seconds between propagated trajectory positions\n",
    "model = 'TIEGCM'  # Choose the model.\n",
    "# Full file path to model output data.\n",
    "file_dir = 'C:/Users/rringuet/Kamodo_Data/TIEGCM/Uriel_Ramirez_012517_IT_1/'  \n",
    "# Example files from https://ccmc.gsfc.nasa.gov/RoR_WWW/output_files/KAMODO_DEMO/\n",
    "start_utcts = dt.datetime(2015, 3, 18, 0, 20).replace(tzinfo=dt.timezone.utc).timestamp()\n",
    "end_utcts = dt.datetime(2015, 3, 21, 0, 0).replace(tzinfo=dt.timezone.utc).timestamp()\n",
    "variable_list = ['rho','u_n','T_e']  # List of desired variable names from model."
   ]
  },
  {
   "cell_type": "code",
   "execution_count": null,
   "id": "affecting-electronics",
   "metadata": {
    "scrolled": true
   },
   "outputs": [],
   "source": [
    "# Run TLEFlight flythrough command.\n",
    "results = SF.TLEFlight(tle_file, start_utcts, end_utcts, time_cadence, model, file_dir, variable_list)"
   ]
  },
  {
   "cell_type": "code",
   "execution_count": null,
   "id": "informed-biology",
   "metadata": {},
   "outputs": [],
   "source": [
    "# Functionalize the output.\n",
    "kamodo_object = SF.O.Functionalize_SFResults(model, results)\n",
    "kamodo_object"
   ]
  },
  {
   "cell_type": "code",
   "execution_count": null,
   "id": "abccc1ca",
   "metadata": {},
   "outputs": [],
   "source": []
  }
 ],
 "metadata": {
  "kernelspec": {
   "display_name": "Python 3 (ipykernel)",
   "language": "python",
   "name": "python3"
  },
  "language_info": {
   "codemirror_mode": {
    "name": "ipython",
    "version": 3
   },
   "file_extension": ".py",
   "mimetype": "text/x-python",
   "name": "python",
   "nbconvert_exporter": "python",
   "pygments_lexer": "ipython3",
   "version": "3.7.13"
  }
 },
 "nbformat": 4,
 "nbformat_minor": 5
}
