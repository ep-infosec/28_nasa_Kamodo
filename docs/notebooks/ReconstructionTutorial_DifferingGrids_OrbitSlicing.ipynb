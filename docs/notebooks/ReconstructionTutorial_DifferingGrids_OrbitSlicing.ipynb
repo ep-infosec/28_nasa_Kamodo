{
 "cells": [
  {
   "cell_type": "markdown",
   "id": "mediterranean-landing",
   "metadata": {},
   "source": [
    "# Reconstruction Tutorial - Orbit Slicing example with differing grids\n",
    "This notebook shows how to use the OrbitSlicing option of the reconstruction function and how to generate reconstructed plots using different grid resolutions. Trajectories can be obtained either from the test GDC trajectory file or the flythrough trajectory functions. The GDC test trajectory was designed to be approximately stationary in GSE coordinates. See the Trajectory_Coord_Plots demo notebook for examples on flythrough trajectory options."
   ]
  },
  {
   "cell_type": "code",
   "execution_count": null,
   "id": "quiet-nirvana",
   "metadata": {},
   "outputs": [],
   "source": [
    "# Get trajectory data from an old GDC trajectory file. \n",
    "from kamodo_ccmc.flythrough.Reconstruction_v0 import read_GDC_sattraj, RECON\n",
    "\n",
    "file_dict = read_GDC_sattraj('C:/Users/rringuet/Kamodo_env/Kamodo/docs/notebooks/KGS_orbit_data.txt')\n",
    "# coordinates in GDZ spherical: 'UTCtimestamps' in s, 'Longitude' in deg, 'Latitude' in deg, 'Altitude' in km\n",
    "print(file_dict['UTCtimestamps'].min(), file_dict['UTCtimestamps'].max())  # min and max for later comparison to data"
   ]
  },
  {
   "cell_type": "code",
   "execution_count": null,
   "id": "c48cac14",
   "metadata": {},
   "outputs": [],
   "source": [
    "# Find out what models are available\n",
    "# The models available through the flythrough are automatically available through the reconstruction function.\n",
    "from kamodo_ccmc.flythrough import model_wrapper as MW\n",
    "MW.Choose_Model('')"
   ]
  },
  {
   "cell_type": "code",
   "execution_count": null,
   "id": "9f26e173",
   "metadata": {},
   "outputs": [],
   "source": [
    "# For a given model, find out what time ranges are covered by the data in a given directory.\n",
    "model = 'GITM'\n",
    "file_dir = 'D:/GITM/jasoon_shim_071418_IT_1_tenth/'  #change to match your machine\n",
    "times = MW.File_Times(model, file_dir)\n",
    "times[0].timestamp(), times[1].timestamp()\n",
    "# This function also automatically performs any data preparation needed."
   ]
  },
  {
   "cell_type": "code",
   "execution_count": null,
   "id": "enormous-charlotte",
   "metadata": {},
   "outputs": [],
   "source": [
    "# Shift times in example trajectory to match model data time range.\n",
    "# Reduce computation load by taking every third position\n",
    "# Some of the trajectory at the end will be automatically excluded later if not covered by the data.\n",
    "mask = range(0, len(file_dict['UTCtimestamps'])-1, 3)\n",
    "time_diff = file_dict['UTCtimestamps'][mask].min() - 1426550400\n",
    "file_dict['sat_time'] = file_dict['UTCtimestamps'][mask] - time_diff\n",
    "print(file_dict['sat_time'].min(), file_dict['sat_time'].max())\n",
    "# Make sure the data you choose covers at least half the time range of the trajectory."
   ]
  },
  {
   "cell_type": "code",
   "execution_count": null,
   "id": "690cc1c4",
   "metadata": {},
   "outputs": [],
   "source": [
    "# Convert coordinates to system desired for reconstruction to take place in.\n",
    "# See Trajectory_Coords_Plots notebook for more details.\n",
    "coord_type, coord_grid = 'GEO','sph'  #choose a coordinate system for the reconstruction to take place in\n",
    "from kamodo_ccmc.flythrough.utils import ConvertCoord\n",
    "c1, c2, c3, units = ConvertCoord(file_dict['sat_time'], file_dict['Longitude'][mask], file_dict['Latitude'][mask], \n",
    "                                 file_dict['Altitude'][mask], 'GDZ', 'sph', coord_type, coord_grid)"
   ]
  },
  {
   "cell_type": "code",
   "execution_count": null,
   "id": "ffe9bfab",
   "metadata": {},
   "outputs": [],
   "source": [
    "# Bring up documentation for the reconstruction functionality.\n",
    "help(RECON)"
   ]
  },
  {
   "cell_type": "code",
   "execution_count": null,
   "id": "honey-geography",
   "metadata": {},
   "outputs": [],
   "source": [
    "# User defined variables\n",
    "variable_name = 'rho_n'\n",
    "recon_dims = 'tc2'  # TimeLat in spherical coordinates\n",
    "dx, dy = 300., 5.  # 5 minute time resolution, 5 degree latitude resolution\n",
    "recon_option = 'UnMod_OrbitSliceD'  # slicing along the orbit, daytime values only, without averaging over longitude\n",
    "dt = 300.  # If default dt=60 s between imaginary satellites is not desired, set dt to the desired time resolution.\n",
    "# These options result in an execution time of about 2 minutes for the next block, depending on the model chosen."
   ]
  },
  {
   "cell_type": "code",
   "execution_count": null,
   "id": "august-senator",
   "metadata": {},
   "outputs": [],
   "source": [
    "# In some cases, the resolution of the sampling grid for the satellite constellation should be different from\n",
    "#   the desired resolution of the model data. To accomplish this, run the reconstruction without any satellite offsets\n",
    "#   to retrieve the desired model data grid with a faster execution time, and then rerun the reconstruction with the \n",
    "#   desired constellation arrangement separately (see below). As originally set, this block takes about 2 minutes to \n",
    "#   complete.\n",
    "recon_step1 = RECON(model,variable_name,file_dir,\n",
    "              file_dict['sat_time'], c1, c2, c3, coord_type, coord_grid, recon_option, recon_dims,\n",
    "              dx=dx, dy=dy, dt=dt)"
   ]
  },
  {
   "cell_type": "code",
   "execution_count": null,
   "id": "87f30ad4",
   "metadata": {},
   "outputs": [],
   "source": [
    "# Show the corresponding model data. Note the plot is produced in the coordinate system requested.\n",
    "# The vertical signatures seen for reconstructions in some coordinate systems result from the drifting \n",
    "#   MLT of the satellites. This can be corrected by adding a longitudinal offset of 15 deg/hr for each \n",
    "#   additional satellite (not used here).\n",
    "recon_step1.plot(rho_n_model=dict(Time=recon_step1.x, Lat=recon_step1.y))"
   ]
  },
  {
   "cell_type": "code",
   "execution_count": null,
   "id": "79d3717d",
   "metadata": {},
   "outputs": [],
   "source": [
    "# Nicer version of same plot\n",
    "fig = recon_step1.plot(rho_n_model=dict(Time=recon_step1.x, Lat=recon_step1.y))\n",
    "fig.update_traces(colorscale=\"Viridis\", ncontours=200, \n",
    "                  contours=dict(coloring=\"fill\",showlines=False))\n",
    "fig"
   ]
  },
  {
   "cell_type": "code",
   "execution_count": null,
   "id": "technical-drama",
   "metadata": {},
   "outputs": [],
   "source": [
    "# Here, run the reconstruction function with the desired constellation arrangement and the different grid resolution.\n",
    "# To decrease execution time, use the 'flythrough' option to avoid constructing a model grid using the new grid resolution.\n",
    "# In this case, the constellation choice is a string of 5 satellites equally spaced in distance in the orbit.\n",
    "import numpy as np\n",
    "time_offsets = np.linspace(0,5548,6)[0:-1]  # equidistant = equal time offsets around orbit\n",
    "dx = 5548.  # Choosing the approximate orbital period as the time resolution (see output from previous block).\n",
    "# Keeping the same latitude resolution as before.\n",
    "recon_step2 = RECON(model,variable_name,file_dir,\n",
    "              file_dict['sat_time'], c1, c2, c3, coord_type, coord_grid, recon_option, recon_dims,\n",
    "              dx=dx, dy=dy, dt=dt, time_offsets=time_offsets, run_option='flythrough')  #dx is in seconds"
   ]
  },
  {
   "cell_type": "code",
   "execution_count": null,
   "id": "93000487",
   "metadata": {},
   "outputs": [],
   "source": [
    "# Show the corresponding reconstructed data. Note the differing grid resolution as compared to the previous plot.\n",
    "recon_step2.plot(rho_n=dict(Time=recon_step2.x, Lat=recon_step2.y))"
   ]
  },
  {
   "cell_type": "code",
   "execution_count": null,
   "id": "098e3a53",
   "metadata": {},
   "outputs": [],
   "source": [
    "# Nicer version of same plot\n",
    "fig = recon_step2.plot(rho_n=dict(Time=recon_step2.x, Lat=recon_step2.y))\n",
    "fig.update_traces(colorscale=\"Viridis\", ncontours=200, \n",
    "                  contours=dict(coloring=\"fill\",showlines=False))\n",
    "fig"
   ]
  },
  {
   "cell_type": "code",
   "execution_count": null,
   "id": "fatty-charter",
   "metadata": {},
   "outputs": [],
   "source": [
    "# In order to compute the percent difference between the above two plots, a more logic is needed than shown in other\n",
    "#   notebooks. Comparing the reconstructed data to the model data on the data's grid requires interpolating the model \n",
    "#   data onto the other grid. This can be simply done using the built-in interpolator for each grid.\n",
    "# First, interpolate the model data onto the reconstructed data grid.\n",
    "model_data_newgrid = recon_step1.rho_n_model(recon_step2.x, recon_step2.y).T\n",
    "# Second, assign the array to the recon object with the same grid.\n",
    "# syntax: create_2Dinterpolator(var_name,x_grid,y_grid,data_array,unit_string)\n",
    "recon_step2.create_2Dinterpolator('rho_n_model', recon_step2.x, recon_step2.y,\n",
    "                                  model_data_newgrid, recon_step2.variable_units)\n",
    "# Third, calculate the percent difference and assign to the same recon object as before.\n",
    "pdiff = (model_data_newgrid - recon_step2.recon_grid)/model_data_newgrid*100.\n",
    "recon_step2.create_2Dinterpolator('PercentDiff', recon_step2.x, recon_step2.y,pdiff,'')\n",
    "# Showing modified Kamodo object.\n",
    "recon_step2  "
   ]
  },
  {
   "cell_type": "code",
   "execution_count": null,
   "id": "c2a83a16",
   "metadata": {},
   "outputs": [],
   "source": [
    "# Show model data on sparser grid.\n",
    "recon_step2.plot(rho_n_model=dict(Time=recon_step2.x, Lat=recon_step2.y))"
   ]
  },
  {
   "cell_type": "code",
   "execution_count": null,
   "id": "67279fec",
   "metadata": {},
   "outputs": [],
   "source": [
    "# Nicer version of same plot\n",
    "fig = recon_step2.plot(rho_n_model=dict(Time=recon_step2.x, Lat=recon_step2.y))\n",
    "fig.update_traces(colorscale=\"Viridis\", ncontours=200, \n",
    "                  contours=dict(coloring=\"fill\",showlines=False))\n",
    "fig"
   ]
  },
  {
   "cell_type": "code",
   "execution_count": null,
   "id": "serious-cyprus",
   "metadata": {},
   "outputs": [],
   "source": [
    "# Show the percent difference between the two. A percent difference of zero is an exact match.\n",
    "# How well the reconstructed plot matches the model plot not only depends on the constellation arrangement,\n",
    "#  but also on the reconstruction method chosen. The 'AvgMod_...' options typically result in the better\n",
    "#  matches, but are not physically representative of what the constellation will 'see' in real data because\n",
    "#  the two non-reconstructed dimensions are ignored in the input satellite trajectory (e.g. an average value \n",
    "#  for both height and time are used instead of the full range for a Lon-Lat reconstruction). The unmodified \n",
    "#  options ('Unmod_...') are thus recommended as the more physical comparison because the full set of input \n",
    "#  trajectory values are used.\n",
    "recon_step2.plot(PercentDiff=dict(Time=recon_step2.x, Lat=recon_step2.y))"
   ]
  },
  {
   "cell_type": "code",
   "execution_count": null,
   "id": "3c5855a9",
   "metadata": {},
   "outputs": [],
   "source": [
    "# Nicer version of same plot\n",
    "fig = recon_step2.plot(PercentDiff=dict(Time=recon_step2.x, Lat=recon_step2.y))\n",
    "fig.update_traces(colorscale=\"Viridis\", ncontours=200, \n",
    "                  contours=dict(coloring=\"fill\",showlines=False))\n",
    "fig"
   ]
  },
  {
   "cell_type": "code",
   "execution_count": null,
   "id": "755a22d0",
   "metadata": {},
   "outputs": [],
   "source": [
    "# Retrieve the percent difference data values and show in a histogram, ignoring NaN values.\n",
    "# Some extra logic is required to automatically enforce bins of width 2%\n",
    "import numpy as np\n",
    "import matplotlib.pyplot as plt\n",
    "\n",
    "pdiff_data = recon_step2.PercentDiff()\n",
    "data_min, data_max = np.floor(np.nanmin(pdiff_data)), np.ceil(np.nanmax(pdiff_data))\n",
    "num_bins = int((data_max-data_min)/2.)\n",
    "if num_bins<5:\n",
    "    num_bins=20\n",
    "hist, edges, patches = plt.hist(np.ravel(pdiff_data), range=(data_min, data_max),bins=num_bins)\n",
    "plt.xlabel('Percent Difference')\n",
    "plt.ylabel('Frequency')"
   ]
  },
  {
   "cell_type": "code",
   "execution_count": null,
   "id": "43c7143f",
   "metadata": {},
   "outputs": [],
   "source": []
  }
 ],
 "metadata": {
  "kernelspec": {
   "display_name": "Python 3 (ipykernel)",
   "language": "python",
   "name": "python3"
  },
  "language_info": {
   "codemirror_mode": {
    "name": "ipython",
    "version": 3
   },
   "file_extension": ".py",
   "mimetype": "text/x-python",
   "name": "python",
   "nbconvert_exporter": "python",
   "pygments_lexer": "ipython3",
   "version": "3.7.13"
  }
 },
 "nbformat": 4,
 "nbformat_minor": 5
}
