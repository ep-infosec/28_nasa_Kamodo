{
 "cells": [
  {
   "cell_type": "markdown",
   "id": "5c72bc35",
   "metadata": {},
   "source": [
    "# Model Data Comparison and Ensemble Modeling Examples\n",
    "One can easily compare results from multiple models by simply running the chosen flythrough function for the same trajectory and times for different model outputs. Blocks 1-4 show this process using the RealFlight function. You can easily plug in other flythrough functions by copying the code from the chosen function's notebook into block 1. Use the START_HERE notebook to walk you through how to choose the best model and model datasets available on your machine. See the InputOutputDemo notebook for more information on what can be done once the results are functionalized.\n",
    "The relevant data is then retrieved via CDAWeb in block 5 and used in function composition to compare with the average of the model data results."
   ]
  },
  {
   "cell_type": "code",
   "execution_count": null,
   "id": "b357d738",
   "metadata": {
    "scrolled": true
   },
   "outputs": [],
   "source": [
    "# Run the flythrough for the desired models and variable(s).\n",
    "from kamodo_ccmc.flythrough import SatelliteFlythrough as SF\n",
    "import datetime as dt\n",
    "\n",
    "# Set input values for RealFlight function call.\n",
    "ctipe_file_dir = 'C:/Users/rringuet/Kamodo_Data/CTIPe/Storm_201303/'\n",
    "gitm_file_dir = 'D:/GITM/Storm_201303/'\n",
    "waccmx_file_dir = 'D:/WACCMX/storm_201303/'\n",
    "start_utcts = dt.datetime(2013, 3, 16, 0).replace(tzinfo=dt.timezone.utc).timestamp()\n",
    "end_utcts = dt.datetime(2013, 3, 17, 0).replace(tzinfo=dt.timezone.utc).timestamp()-1\n",
    "variables = ['T_i']  # one or more variable names to retrieve\n",
    "coord_sys = 'GEO'  # requested cartesian system for satellite positions\n",
    "\n",
    "# Fly the cnofs trajectory through the simulated data chosen. See SSCWeb for the satellite names.\n",
    "results_ctipe = SF.RealFlight('cnofs', start_utcts, end_utcts, 'CTIPe', ctipe_file_dir,\n",
    "                              variables, coord_sys)\n",
    "results_gitm = SF.RealFlight('cnofs', start_utcts, end_utcts, 'GITM', gitm_file_dir, \n",
    "                             variables, coord_sys)\n",
    "results_waccmx = SF.RealFlight('cnofs', start_utcts, end_utcts, 'WACCMX', waccmx_file_dir, \n",
    "                               variables, coord_sys)"
   ]
  },
  {
   "cell_type": "code",
   "execution_count": null,
   "id": "4deaade7",
   "metadata": {},
   "outputs": [],
   "source": [
    "# Functionalize the data.\n",
    "kamodo_object = SF.O.Functionalize_TimeSeries(results_ctipe['utc_time'], 'CTIPeT_i',\n",
    "                                              'K', results_ctipe['T_i'])\n",
    "kamodo_object = SF.O.Functionalize_TimeSeries(results_gitm['utc_time'], 'GITMT_i',\n",
    "                                              'K', results_gitm['T_i'], kamodo_object)\n",
    "kamodo_object = SF.O.Functionalize_TimeSeries(results_waccmx['utc_time'], 'WACCMXT_i',\n",
    "                                              'K', results_waccmx['T_i'], kamodo_object)\n",
    "kamodo_object"
   ]
  },
  {
   "cell_type": "code",
   "execution_count": null,
   "id": "e016c903",
   "metadata": {},
   "outputs": [],
   "source": [
    "# Perform a simple ensembling analysis as an example.\n",
    "kamodo_object['ModelAverage[K]'] = '(CTIPeT_i + GITMT_i + WACCMXT_i)/3.'\n",
    "kamodo_object['CTIPe_diff'] = 'abs(ModelAverage - CTIPeT_i)'\n",
    "kamodo_object['GITM_diff'] = 'abs(ModelAverage - GITMT_i)'\n",
    "kamodo_object['WACCMX_diff'] = 'abs(ModelAverage - WACCMXT_i)'\n",
    "kamodo_object"
   ]
  },
  {
   "cell_type": "code",
   "execution_count": null,
   "id": "e3436840",
   "metadata": {},
   "outputs": [],
   "source": [
    "# Now we can plot model and calculations on the same figure with the difference\n",
    "kamodo_object.plot('CTIPeT_i', 'GITMT_i', 'WACCMXT_i', 'ModelAverage', 'CTIPe_diff', 'GITM_diff', 'WACCMX_diff')"
   ]
  },
  {
   "cell_type": "code",
   "execution_count": null,
   "id": "d1a3e37a",
   "metadata": {},
   "outputs": [],
   "source": [
    "# Get CINDI data through HAPI\n",
    "# HAPI sometimes complains. If that happens, just run the notebook again.\n",
    "from kamodo_ccmc.readers.hapi import HAPI\n",
    "\n",
    "server = 'https://cdaweb.gsfc.nasa.gov/hapi'\n",
    "dataset = 'CNOFS_CINDI_IVM_500MS'\n",
    "parameters = 'ionTemperature'\n",
    "start = dt.datetime.utcfromtimestamp(start_utcts).replace(tzinfo=dt.timezone.utc).isoformat('T')\n",
    "stop = dt.datetime.utcfromtimestamp(end_utcts).replace(tzinfo=dt.timezone.utc).isoformat('T')\n",
    "hapiCDA = HAPI(server, dataset, parameters, start, stop)\n",
    "\n",
    "# Add the new time series into the Kamodo object and analyze\n",
    "kamodo_object = SF.O.Functionalize_TimeSeries(hapiCDA.tsarray, 'CINDIT_i', \n",
    "                                              'K', hapiCDA.ionTemperature(), \n",
    "                                              kamodo_object=kamodo_object)\n",
    "\n",
    "kamodo_object['DataModel_DIFF[K]'] = 'abs(CINDIT_i - ModelAverage)'\n",
    "kamodo_object"
   ]
  },
  {
   "cell_type": "code",
   "execution_count": null,
   "id": "67f9b7da",
   "metadata": {},
   "outputs": [],
   "source": [
    "# Now we can plot model and data on the same figure with the difference.\n",
    "# Kamodo does not add data where the model data is not defined.\n",
    "kamodo_object.plot('CINDIT_i', 'ModelAverage', 'DataModel_DIFF')"
   ]
  },
  {
   "cell_type": "code",
   "execution_count": null,
   "id": "401c933f",
   "metadata": {},
   "outputs": [],
   "source": []
  }
 ],
 "metadata": {
  "kernelspec": {
   "display_name": "Python 3 (ipykernel)",
   "language": "python",
   "name": "python3"
  },
  "language_info": {
   "codemirror_mode": {
    "name": "ipython",
    "version": 3
   },
   "file_extension": ".py",
   "mimetype": "text/x-python",
   "name": "python",
   "nbconvert_exporter": "python",
   "pygments_lexer": "ipython3",
   "version": "3.7.13"
  }
 },
 "nbformat": 4,
 "nbformat_minor": 5
}
