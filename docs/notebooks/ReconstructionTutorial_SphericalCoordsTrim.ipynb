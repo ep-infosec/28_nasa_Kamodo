{
 "cells": [
  {
   "cell_type": "markdown",
   "id": "9cede150",
   "metadata": {},
   "source": [
    "# Demo notebook for Kamodo's Reconstruction: Spherical Coordinates\n",
    "### The short version\n",
    "This notebook tutorial shows how to fly a constellation of satellites through model data as a virtual reality, focusing on spherical coordinate examples. Trajectories can be obtained either from the test GDC trajectory file or the flythrough trajectory functions as shown here. See the Trajectory_Coord_Plots demo notebook for examples on flythrough trajectory options, and the START_HERE notebook for more information on choosing models and variables."
   ]
  },
  {
   "cell_type": "code",
   "execution_count": null,
   "id": "94350b4c",
   "metadata": {},
   "outputs": [],
   "source": [
    "# For a given model, find out what time range is covered by the data in a given directory.\n",
    "from kamodo_ccmc.flythrough import model_wrapper as MW\n",
    "model, file_dir = 'GITM', 'D:/GITM/jasoon_shim_071418_IT_1_tenth/'  # change to match your machine\n",
    "times = MW.File_Times(model, file_dir)\n",
    "times[0].timestamp(), times[1].timestamp()\n",
    "# This function also automatically performs any data preparation needed."
   ]
  },
  {
   "cell_type": "code",
   "execution_count": null,
   "id": "e8e45ffa",
   "metadata": {},
   "outputs": [],
   "source": [
    "# Import function to retrieve the grace1 trajectory from the SSCWeb.\n",
    "from kamodo_ccmc.flythrough import SatelliteFlythrough as SF\n",
    "# Typical coordinates possible through SSCWeb are GEO, GSE, SM, and GSM (all cartesian and in R_E).\n",
    "input_coord = 'GEO'\n",
    "traj_dict, coord_type = SF.SatelliteTrajectory('grace1', times[0].timestamp(), times[1].timestamp(), coord_type=input_coord)"
   ]
  },
  {
   "cell_type": "code",
   "execution_count": null,
   "id": "d1a8d8fb",
   "metadata": {},
   "outputs": [],
   "source": [
    "# Convert coordinates to system desired for reconstruction to take place in.\n",
    "# The trajectories were retrieved in GEO cartesian, and are converted to GEO spherical below.\n",
    "from kamodo_ccmc.flythrough.utils import ConvertCoord\n",
    "c1, c2, c3, units = ConvertCoord(traj_dict['sat_time'], traj_dict['c1'], traj_dict['c2'], traj_dict['c3'],\n",
    "                                 input_coord, 'car', input_coord, 'sph')\n",
    "print(c1.min(), c1.max(), c2.min(), c2.max(), c3.min(), c3.max())"
   ]
  },
  {
   "cell_type": "code",
   "execution_count": null,
   "id": "1fcb0b2c",
   "metadata": {},
   "outputs": [],
   "source": [
    "# Choose a variable from the model data chosen.\n",
    "MW.Variable_Search('', model, file_dir)"
   ]
  },
  {
   "cell_type": "code",
   "execution_count": null,
   "id": "b2264669",
   "metadata": {},
   "outputs": [],
   "source": [
    "# Bring up documentation for the reconstruction functionality.\n",
    "from kamodo_ccmc.flythrough.Reconstruction_v0 import RECON\n",
    "help(RECON)"
   ]
  },
  {
   "cell_type": "code",
   "execution_count": null,
   "id": "honey-geography",
   "metadata": {},
   "outputs": [],
   "source": [
    "# Choose inputs.\n",
    "variable_name = 'rho_n'  # from chosen files above\n",
    "recon_dimensions = 'c1c2'  # Longitude vs Latitude reconstruction for spherical coordinates\n",
    "recon_option = 'UnMod_AvgDSlice'\n",
    "# fly the given trajectory through the data unmodified, then fly the reconstructed coordinate grid through the data\n",
    "# after taking the average of t and height.\n",
    "\n",
    "# Set up constellation input:\n",
    "lon_offsets = [0., 30., 60., 90., 120., 150.]  # 6 satellites equally spaced in longitude\n",
    "\n",
    "# Choose the grid resolution of reconstruction. The finer the resolution, the longer the program takes to run and \n",
    "#   the more 'holes' you will see in the reconstructed plot. Physically, these should be set to the instrument's \n",
    "#   field of view in the units of the input coordinate system (e.g. degrees for longitude and latitude, seconds for\n",
    "#   time, etc).\n",
    "dx, dy = 5., 5.  # Since recon_dimensions='c1c2', dx is resolution in longitude, and dy is the resolution in latitude.\n",
    "d1, d2 = 1800., 0.001  # time (in s) and height (in R_E) resolution of sampling for averaging"
   ]
  },
  {
   "cell_type": "code",
   "execution_count": null,
   "id": "august-senator",
   "metadata": {},
   "outputs": [],
   "source": [
    "# Run the reconstruction.\n",
    "# This process typically takes up to a few minutes, but can take up to ~2 hours or more depending on the amount of data \n",
    "#  used, the grid resolution chosen, the reconstruction method chosen, and whether conversion to pressure level is \n",
    "#  required. As originally set, the process takes about 360 seconds.\n",
    "# Make sure to include all desired offsets in this block before executing.\n",
    "\n",
    "recon = RECON(model, variable_name, file_dir, traj_dict['sat_time'], c1, c2, c3,\n",
    "              input_coord, 'sph', recon_option, recon_dimensions, c1_offsets=lon_offsets, dx=dx, dy=dy, d1=d1, d2=d2)"
   ]
  },
  {
   "cell_type": "code",
   "execution_count": null,
   "id": "macro-aspect",
   "metadata": {},
   "outputs": [],
   "source": [
    "# The output of the function is a Kamodo object with all of the default features described in documentation.\n",
    "# rho_n is the reconstructed data from the constellation flythrough. rho_n_model is the data from the model in the \n",
    "#  method chosen. PercentDiff is the percent difference between the two, calculated using \n",
    "#  PercentDiff = (rho_n_model - rho_n)/rho_n_model*100.\n",
    "recon"
   ]
  },
  {
   "cell_type": "code",
   "execution_count": null,
   "id": "41e4f067",
   "metadata": {},
   "outputs": [],
   "source": [
    "# Nicer version of default Kamodo plot\n",
    "fig = recon.plot(rho_n=dict(Lon=recon.x, Lat=recon.y))\n",
    "fig.update_traces(colorscale=\"Viridis\", ncontours=200, \n",
    "                  contours=dict(coloring=\"fill\",showlines=False))\n",
    "fig"
   ]
  },
  {
   "cell_type": "code",
   "execution_count": null,
   "id": "bbc2ac2d",
   "metadata": {},
   "outputs": [],
   "source": [
    "fig = recon.plot(rho_n_model=dict(Lon=recon.x, Lat=recon.y))\n",
    "fig.update_traces(colorscale=\"Viridis\", ncontours=200, \n",
    "                  contours=dict(coloring=\"fill\",showlines=False))\n",
    "fig"
   ]
  },
  {
   "cell_type": "code",
   "execution_count": null,
   "id": "7463d1a5",
   "metadata": {},
   "outputs": [],
   "source": [
    "# Show the percent difference between the two. A percent difference of zero is an exact match.\n",
    "# How well the reconstructed plot matches the model plot not only depends on the constellation arrangement,\n",
    "#  but also on the reconstruction method chosen. The 'AvgMod_...' options typically result in the better\n",
    "#  matches, but are not physically representative of what the constellation will 'see' in real data because\n",
    "#  the two non-reconstructed dimensions are ignored in the input satellite trajectory (e.g. an average value \n",
    "#  for both height and time are used instead of the full range for a Lon-Lat reconstruction). The unmodified \n",
    "#  options ('Unmod_...') are thus recommended as the more physical comparison because the full set of input \n",
    "#  trajectory values are used.\n",
    "fig = recon.plot(PercentDiff=dict(Lon=recon.x, Lat=recon.y))\n",
    "fig.update_traces(colorscale=\"Viridis\", ncontours=200, \n",
    "                  contours=dict(coloring=\"fill\",showlines=False))\n",
    "fig"
   ]
  },
  {
   "cell_type": "code",
   "execution_count": null,
   "id": "adverse-sleeve",
   "metadata": {},
   "outputs": [],
   "source": [
    "# Retrieve the percent difference data values and show in a histogram, ignoring NaN values.\n",
    "# Some extra logic is required to automatically enforce bins of width 2%\n",
    "import numpy as np\n",
    "import matplotlib.pyplot as plt\n",
    "\n",
    "pdiff_data = recon.PercentDiff()\n",
    "data_min, data_max = np.floor(np.nanmin(pdiff_data)), np.ceil(np.nanmax(pdiff_data))\n",
    "num_bins = int((data_max-data_min)/2.)\n",
    "if num_bins<5:\n",
    "    num_bins=20\n",
    "hist, edges, patches = plt.hist(np.ravel(pdiff_data), range=(data_min,data_max),bins=num_bins)\n",
    "plt.xlabel('Percent Difference')\n",
    "plt.ylabel('Frequency')"
   ]
  },
  {
   "cell_type": "code",
   "execution_count": null,
   "id": "4513fef4",
   "metadata": {},
   "outputs": [],
   "source": []
  }
 ],
 "metadata": {
  "kernelspec": {
   "display_name": "Python 3 (ipykernel)",
   "language": "python",
   "name": "python3"
  },
  "language_info": {
   "codemirror_mode": {
    "name": "ipython",
    "version": 3
   },
   "file_extension": ".py",
   "mimetype": "text/x-python",
   "name": "python",
   "nbconvert_exporter": "python",
   "pygments_lexer": "ipython3",
   "version": "3.7.13"
  }
 },
 "nbformat": 4,
 "nbformat_minor": 5
}
