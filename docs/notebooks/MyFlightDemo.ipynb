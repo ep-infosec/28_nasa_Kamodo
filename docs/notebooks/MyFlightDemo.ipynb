{
 "cells": [
  {
   "cell_type": "markdown",
   "id": "96b62478",
   "metadata": {},
   "source": [
    "# Demo notebook for Kamodo Flythrough \"MyFlight\" function\n",
    "The MyFlight function flies a trajectory from a file through the chosen model data. The file must be formatted to match the csv/nc/txt file examples given. The easiest way to create this is to run the InputOutputDemo notebook and use the output file from there.\n",
    "You may run the notebook as is if you have the sample data file, but you must change the 'file_dir' variable in block 3 to have the correct file path.\n",
    "See the InputOutputDemo notebook for more information on what can be done once the results are functionalized."
   ]
  },
  {
   "cell_type": "code",
   "execution_count": null,
   "id": "statewide-animation",
   "metadata": {},
   "outputs": [],
   "source": [
    "# Import satellite flythrough code\n",
    "from kamodo_ccmc.flythrough import SatelliteFlythrough as SF\n",
    "help(SF.MyFlight)\n",
    "# The testing data file is available at https://ccmc.gsfc.nasa.gov/RoR_WWW/output_files/KAMODO_DEMO/"
   ]
  },
  {
   "cell_type": "code",
   "execution_count": null,
   "id": "reflected-aggregate",
   "metadata": {},
   "outputs": [],
   "source": [
    "# Choosing input values for MyFlight function call\n",
    "# ----------------------------  \n",
    "model = 'GITM'  # Choose the model.\n",
    "# Full file path to model output data.\n",
    "file_dir = 'D:/GITM/Storm_201303/'  \n",
    "traj_file = 'C:/Users/rringuet/Kamodo_env/RealFlightExample_GITM.txt' \n",
    "# Change the traj_file name and path to match your system\n",
    "variable_list = ['rho','T_n','Sigma_H', 'T_i']  # list of desired variable names.\n",
    "# Not all variables in the list will be available in the file(s) found."
   ]
  },
  {
   "cell_type": "code",
   "execution_count": null,
   "id": "affecting-electronics",
   "metadata": {
    "scrolled": true
   },
   "outputs": [],
   "source": [
    "# Run MyFlight with user-supplied trajectory\n",
    "results = SF.MyFlight(traj_file, model, file_dir, variable_list)"
   ]
  },
  {
   "cell_type": "code",
   "execution_count": null,
   "id": "76e3f71a",
   "metadata": {},
   "outputs": [],
   "source": [
    "# Functionalize the output.\n",
    "kamodo_object = SF.O.Functionalize_SFResults(model, results)\n",
    "kamodo_object"
   ]
  },
  {
   "cell_type": "code",
   "execution_count": null,
   "id": "70628052",
   "metadata": {},
   "outputs": [],
   "source": []
  }
 ],
 "metadata": {
  "kernelspec": {
   "display_name": "Python 3 (ipykernel)",
   "language": "python",
   "name": "python3"
  },
  "language_info": {
   "codemirror_mode": {
    "name": "ipython",
    "version": 3
   },
   "file_extension": ".py",
   "mimetype": "text/x-python",
   "name": "python",
   "nbconvert_exporter": "python",
   "pygments_lexer": "ipython3",
   "version": "3.7.13"
  }
 },
 "nbformat": 4,
 "nbformat_minor": 5
}
