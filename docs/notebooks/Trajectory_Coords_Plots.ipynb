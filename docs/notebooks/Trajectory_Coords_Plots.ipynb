{
 "cells": [
  {
   "cell_type": "markdown",
   "id": "cadfb350",
   "metadata": {},
   "source": [
    "# Demo notebook for Kamodo Flythrough Coordinates and Plotting functions\n",
    "This notebook tutorial shows how to retrieve a real trajectory through SSCWeb, create a sample trajectory in GDZ spherical coordinates, convert a given trajectory to any coordinate system supported by SpacePy and most coordinate systems supported by AstroPy, and produce a variety of interactive plots."
   ]
  },
  {
   "cell_type": "code",
   "execution_count": null,
   "id": "precious-motivation",
   "metadata": {},
   "outputs": [],
   "source": [
    "# Import function to retrieve a sample trajectory from the grace1 satellite via SSCWeb.\n",
    "from kamodo_ccmc.flythrough import SatelliteFlythrough as SF\n",
    "help(SF.SatelliteTrajectory)"
   ]
  },
  {
   "cell_type": "code",
   "execution_count": null,
   "id": "statewide-animation",
   "metadata": {},
   "outputs": [],
   "source": [
    "# Import satellite flythrough coordinate conversion code for more info on the coordinate systems.\n",
    "from kamodo_ccmc.flythrough.utils import ConvertCoord\n",
    "help(ConvertCoord)"
   ]
  },
  {
   "cell_type": "code",
   "execution_count": null,
   "id": "built-salmon",
   "metadata": {},
   "outputs": [],
   "source": [
    "# Retrieve a real satellite trajectory.\n",
    "# Typical coordinates possible through SSCWeb are GEO, GSE, SM, and GSM (all cartesian and in R_E).\n",
    "traj_dict, coord_type = SF.SatelliteTrajectory('grace1', 1426660000.0, 1426680700.0, coord_type='GEO')\n",
    "traj_hrs = (traj_dict['sat_time']-traj_dict['sat_time'].min())/3600.  #convert to hours since interval start\n",
    "print(coord_type)\n",
    "print('sat_time=utc timestamp:',traj_dict['sat_time'][:10])\n",
    "print('c1=x(R_E):',traj_dict['c1'][:10])\n",
    "print('c2=y(R_E):',traj_dict['c2'][:10])\n",
    "print('c3=z(R_E):',traj_dict['c3'][:10])"
   ]
  },
  {
   "cell_type": "code",
   "execution_count": null,
   "id": "judicial-penny",
   "metadata": {
    "scrolled": true
   },
   "outputs": [],
   "source": [
    "# Show grace1 trajectory in given coordinate system for different plot types.\n",
    "# The first example is a pair of plots: a 4D plot and a stack of 4 time-series plots.\n",
    "from kamodo_ccmc.flythrough.plots import SatPlot4D\n",
    "help(SatPlot4D)"
   ]
  },
  {
   "cell_type": "code",
   "execution_count": null,
   "id": "8e607bd1",
   "metadata": {},
   "outputs": [],
   "source": [
    "# Using time since the start as the variable values to be plotted. Keeping original coordinate system (GEO).\n",
    "# Showing 3D plot. Remember that the body='earth' option is only accurate/possible in the GEO coordinate system.\n",
    "SatPlot4D('utc_time', traj_dict['sat_time'], traj_dict['c1'], traj_dict['c2'], traj_dict['c3'],\n",
    "          traj_hrs, 'hr', *coord_type.split('-'), 'GSE', 'all', 'grace1', body='earth', type='2DPN')"
   ]
  },
  {
   "cell_type": "code",
   "execution_count": null,
   "id": "55c5621e",
   "metadata": {
    "scrolled": true
   },
   "outputs": [],
   "source": [
    "# Another way to get a trajectory is via the SampleTrajectory flythrough function\n",
    "help(SF.SampleTrajectory)"
   ]
  },
  {
   "cell_type": "code",
   "execution_count": null,
   "id": "6a13d94a",
   "metadata": {},
   "outputs": [],
   "source": [
    "# Get a sample trajectory.\n",
    "sample_traj, sample_coord = SF.SampleTrajectory(1426660000.0, 1426680700.0, max_height=550., \n",
    "                                                             min_height=525., p=0.05, n=30.)\n",
    "sample_hrs = (sample_traj['sat_time']-sample_traj['sat_time'].min())/3600.  # convert to hours since interval start\n",
    "sample_traj.keys(), sample_coord"
   ]
  },
  {
   "cell_type": "code",
   "execution_count": null,
   "id": "d685559d",
   "metadata": {},
   "outputs": [],
   "source": [
    "# Convert coordinates to another coordinate system, this time an AstroPy coordinate system.\n",
    "c1, c2, c3, units = ConvertCoord(sample_traj['sat_time'], sample_traj['c1'], sample_traj['c2'], sample_traj['c3'], \n",
    "                                 *sample_coord.split('-'), 'teme', 'car')\n",
    "print('c1=longitude:',c1[:10])\n",
    "print('c2=latitude:',c2[:10])\n",
    "print('c3=radius:',c3[:10])\n",
    "print('units (c1,c2,c3):',units)"
   ]
  },
  {
   "cell_type": "code",
   "execution_count": null,
   "id": "informed-biology",
   "metadata": {},
   "outputs": [],
   "source": [
    "# Using time since the start as the variable values to be plotted. Converting into a different coordinate system in\n",
    "#  AstroPy instead of the given coordinate system.\n",
    "# Showing 1D stack of plots.\n",
    "SatPlot4D('utc_time', sample_traj['sat_time'], c1, c2, c3, sample_hrs, 'hr', \n",
    "          'teme', 'car', 'geocentrictrueecliptic', 'all', 'sample', plotCoordType1D='sph', type='1D')"
   ]
  },
  {
   "cell_type": "code",
   "execution_count": null,
   "id": "52231b9e",
   "metadata": {},
   "outputs": [],
   "source": [
    "# How to get a trajectory from TLEs\n",
    "import datetime as dt\n",
    "tle_file = 'C:/Users/rringuet/Kamodo_Data/TIEGCM/Uriel_Ramirez_012517_IT_1/GRACE1_TLEs.txt'\n",
    "time_cadence = 60.  # seconds between propagated trajectory positions\n",
    "start_utcts = dt.datetime(2015, 3, 18, 0, 20).replace(tzinfo=dt.timezone.utc).timestamp()\n",
    "end_utcts = dt.datetime(2015, 3, 21, 0, 0).replace(tzinfo=dt.timezone.utc).timestamp()\n",
    "traj_dict, coord_type = SF.TLETrajectory(tle_file, start_utcts, end_utcts, time_cadence)\n",
    "traj_dict"
   ]
  },
  {
   "cell_type": "code",
   "execution_count": null,
   "id": "59da9b2c",
   "metadata": {},
   "outputs": [],
   "source": [
    "# Plotting all of the trajectory with time as the color in 3D\n",
    "traj_hrs = (traj_dict['sat_time']-traj_dict['sat_time'].min())/3600.  # convert to hours since interval start\n",
    "SatPlot4D('utc_time', traj_dict['sat_time'], traj_dict['c1'], traj_dict['c2'], traj_dict['c3'],\n",
    "          traj_hrs, 'hr', *coord_type.split('-'), 'GEO', 'all', 'grace1', body='earth', type='3D')"
   ]
  },
  {
   "cell_type": "code",
   "execution_count": null,
   "id": "2c22b5fb",
   "metadata": {},
   "outputs": [],
   "source": []
  }
 ],
 "metadata": {
  "kernelspec": {
   "display_name": "Python 3 (ipykernel)",
   "language": "python",
   "name": "python3"
  },
  "language_info": {
   "codemirror_mode": {
    "name": "ipython",
    "version": 3
   },
   "file_extension": ".py",
   "mimetype": "text/x-python",
   "name": "python",
   "nbconvert_exporter": "python",
   "pygments_lexer": "ipython3",
   "version": "3.7.13"
  }
 },
 "nbformat": 4,
 "nbformat_minor": 5
}
