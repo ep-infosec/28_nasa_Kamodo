{
 "cells": [
  {
   "cell_type": "markdown",
   "id": "28ab81b3",
   "metadata": {},
   "source": [
    "# Data Functionalization\n",
    "This notebook shows how to use the Functionalize_Dataset function to easily functionalize a given dataset. See the first cell for details on the function execution."
   ]
  },
  {
   "cell_type": "code",
   "execution_count": null,
   "id": "4e733846",
   "metadata": {},
   "outputs": [],
   "source": [
    "from kamodo_ccmc.flythrough.functionalize import Functionalize_Dataset\n",
    "import numpy as np\n",
    "help(Functionalize_Dataset)"
   ]
  },
  {
   "cell_type": "code",
   "execution_count": null,
   "id": "f16438bc",
   "metadata": {},
   "outputs": [],
   "source": [
    "# Initialize and functionalize data of any dimension as shown.\n",
    "# The example below shows the creation of the inputs, including\n",
    "# example datasets with 7 dimensions. Any number of dimensions can\n",
    "# be functionalized.\n",
    "rng1 = np.random.RandomState(1)  # Seed the random generators differently\n",
    "rng2 = np.random.RandomState(2)  # or the arrays created below will be identical.\n",
    "coord_dict = {'time': {'units': 'hr', 'data': np.linspace(0., 24., 25)},\n",
    "              'lon': {'units': 'deg', 'data': np.linspace(-180., 180., 12)},\n",
    "              'lat': {'units': 'deg', 'data': np.linspace(-90., 90., 5)},\n",
    "              'radius': {'units': 'R_E', 'data': np.linspace(0., 50., 10)},\n",
    "              'nonsense': {'units': 'm/m', 'data': np.linspace(1., 15., 15)},\n",
    "              'nope': {'units': 'm', 'data': np.linspace(1., 150., 25)},\n",
    "              'nada': {'units': 'hPa', 'data': np.linspace(0.00005, 15000., 20)}}\n",
    "var_dict = {'Test_7D': {'units': 'S', 'data': rng1.rand(25, 12, 5, 10, 15, 25, 20)},\n",
    "            'Good_7D': {'units': 'mK', 'data': rng2.rand(25, 12, 5, 10, 15, 25, 20)}}\n",
    "kamodo_object = Functionalize_Dataset(coord_dict, var_dict)\n",
    "kamodo_object"
   ]
  },
  {
   "cell_type": "code",
   "execution_count": null,
   "id": "a0d988ee",
   "metadata": {},
   "outputs": [],
   "source": [
    "# Plot a 1D slice of all the variables by choosing a slice value in all but one dimension.\n",
    "kamodo_object.plot('Test_7D', 'Good_7D', plot_partial={\n",
    "    'Test_7D': {'time': 12., 'lon': 0.5, 'lat': -20., 'radius': 15., 'nonsense': 11.5, 'nope': 5.},\n",
    "    'Good_7D': {'time': 12., 'lon': 0.5, 'lat': -20., 'radius': 15., 'nonsense': 11.5, 'nope': 5.}})"
   ]
  },
  {
   "cell_type": "code",
   "execution_count": null,
   "id": "71956526",
   "metadata": {},
   "outputs": [],
   "source": [
    "# Plot a 2D slice of one variables by choosing a slice value in all but two dimensions.\n",
    "kamodo_object.plot('Test_7D', plot_partial={\n",
    "    'Test_7D': {'time': 12., 'lon': 0.5, 'lat': -20., 'radius': 15., 'nonsense': 11.5}})"
   ]
  },
  {
   "cell_type": "code",
   "execution_count": null,
   "id": "3cf6a9c2",
   "metadata": {},
   "outputs": [],
   "source": [
    "# You can add datasets of other dimensions to the same kamodo_object.\n",
    "coord_dict = {'time': {'units': 'hr', 'data': np.linspace(0., 24., 25)}}\n",
    "var_dict = {'Test_1D': {'units': 'S', 'data': rng1.rand(25)},\n",
    "            'Good_1D': {'units': 'mK', 'data': rng2.rand(25)}}\n",
    "kamodo_object = Functionalize_Dataset(coord_dict, var_dict, kamodo_object)\n",
    "kamodo_object"
   ]
  },
  {
   "cell_type": "code",
   "execution_count": null,
   "id": "843ba2ff",
   "metadata": {},
   "outputs": [],
   "source": [
    "# Use the get_defaults function to retrieve the coordinate arrays\n",
    "# This is useful when it is not obvious what value to choose for slicing.\n",
    "from kamodo import get_defaults\n",
    "get_defaults(kamodo_object.Test_1D)"
   ]
  },
  {
   "cell_type": "code",
   "execution_count": null,
   "id": "7a89b077",
   "metadata": {},
   "outputs": [],
   "source": [
    "# You can plot all of the functions on the same plot as long as the independent\n",
    "# variable is the same (time in this example).\n",
    "kamodo_object.plot('Test_1D', 'Good_1D', 'Test_7D', 'Good_7D', plot_partial={\n",
    "    'Test_7D': {'lon': 0.5, 'lat': -20., 'radius': 15., 'nonsense': 11.5, 'nope': 5., 'nada': 12.},\n",
    "    'Good_7D': {'lon': 0.5, 'lat': -20., 'radius': 15., 'nonsense': 11.5, 'nope': 5., 'nada': 12.}})"
   ]
  },
  {
   "cell_type": "code",
   "execution_count": null,
   "id": "90899296",
   "metadata": {},
   "outputs": [],
   "source": [
    "# Access the metadata\n",
    "kamodo_object['Test_1D'].meta"
   ]
  },
  {
   "cell_type": "code",
   "execution_count": null,
   "id": "9214105d",
   "metadata": {},
   "outputs": [],
   "source": [
    "# Add to the metadata\n",
    "kamodo_object['Test_1D'].meta['description'] = 'Testing the functionalize.py script'\n",
    "kamodo_object['Test_1D'].meta['citation'] = 'Ringuette et al. 2022'\n",
    "kamodo_object['Test_1D'].meta"
   ]
  },
  {
   "cell_type": "code",
   "execution_count": null,
   "id": "41b22fc3",
   "metadata": {},
   "outputs": [],
   "source": [
    "kamodo_object.detail()"
   ]
  },
  {
   "cell_type": "code",
   "execution_count": null,
   "id": "6c90b736",
   "metadata": {},
   "outputs": [],
   "source": []
  }
 ],
 "metadata": {
  "kernelspec": {
   "display_name": "Python 3 (ipykernel)",
   "language": "python",
   "name": "python3"
  },
  "language_info": {
   "codemirror_mode": {
    "name": "ipython",
    "version": 3
   },
   "file_extension": ".py",
   "mimetype": "text/x-python",
   "name": "python",
   "nbconvert_exporter": "python",
   "pygments_lexer": "ipython3",
   "version": "3.7.13"
  }
 },
 "nbformat": 4,
 "nbformat_minor": 5
}
