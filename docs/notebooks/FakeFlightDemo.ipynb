{
 "cells": [
  {
   "cell_type": "markdown",
   "id": "44a27d0f",
   "metadata": {},
   "source": [
    "# Demo notebook for Kamodo Flythrough \"FakeFlight\" function\n",
    "The FakeFlight function flies a user-designed trajectory through the chosen model data. The sample trajectory is created using a few input parameters as described in the output of block 1. You may run the notebook as is if you have the sample data file, but you must change the 'file_dir' variable in block 2 to have the correct file path. See the InputOutputDemo notebook for more information on what can be done once the results are functionalized."
   ]
  },
  {
   "cell_type": "code",
   "execution_count": null,
   "id": "statewide-animation",
   "metadata": {},
   "outputs": [],
   "source": [
    "# Import satellite flythrough code\n",
    "from kamodo_ccmc.flythrough import SatelliteFlythrough as SF\n",
    "help(SF.FakeFlight)\n",
    "# The testing data file is available at https://ccmc.gsfc.nasa.gov/RoR_WWW/output_files/KAMODO_DEMO/"
   ]
  },
  {
   "cell_type": "code",
   "execution_count": null,
   "id": "reflected-aggregate",
   "metadata": {},
   "outputs": [],
   "source": [
    "# Choosing input values for FakeFlight function call\n",
    "import datetime as dt\n",
    "\n",
    "model = 'GITM'  # Choose which model and data to view the example for\n",
    "file_dir = 'D:/GITM/Storm_201303/'  # full file path to where the model output data is stored\n",
    "\n",
    "# Choose time range and cadence of fake trajectory\n",
    "start_utcts = dt.datetime(2013, 3, 16, 0).replace(tzinfo=dt.timezone.utc).timestamp()\n",
    "end_utcts = dt.datetime(2013, 3, 17, 0).replace(tzinfo=dt.timezone.utc).timestamp()-1\n",
    "n = 20.  # number of seconds between trajectory positions\n",
    "# The chosen time range should match the length of time in the model data files.\n",
    "# Time values found not to be contained in the model data are automatically discarded (see output of next block).\n",
    "\n",
    "variable_list = ['rho_n', 'rho_H']  # list of desired variable names "
   ]
  },
  {
   "cell_type": "code",
   "execution_count": null,
   "id": "affecting-electronics",
   "metadata": {
    "scrolled": true
   },
   "outputs": [],
   "source": [
    "# Run FakeFlight with sample trajectory\n",
    "results = SF.FakeFlight(start_utcts, end_utcts, model, file_dir, variable_list, max_height=400, min_height=300, n=n)"
   ]
  },
  {
   "cell_type": "code",
   "execution_count": null,
   "id": "15f53498",
   "metadata": {},
   "outputs": [],
   "source": [
    "# Functionalize the output.\n",
    "kamodo_object = SF.O.Functionalize_SFResults(model, results)\n",
    "kamodo_object"
   ]
  },
  {
   "cell_type": "code",
   "execution_count": null,
   "id": "7b5ebf6f",
   "metadata": {},
   "outputs": [],
   "source": []
  }
 ],
 "metadata": {
  "kernelspec": {
   "display_name": "Python 3 (ipykernel)",
   "language": "python",
   "name": "python3"
  },
  "language_info": {
   "codemirror_mode": {
    "name": "ipython",
    "version": 3
   },
   "file_extension": ".py",
   "mimetype": "text/x-python",
   "name": "python",
   "nbconvert_exporter": "python",
   "pygments_lexer": "ipython3",
   "version": "3.7.13"
  }
 },
 "nbformat": 4,
 "nbformat_minor": 5
}
