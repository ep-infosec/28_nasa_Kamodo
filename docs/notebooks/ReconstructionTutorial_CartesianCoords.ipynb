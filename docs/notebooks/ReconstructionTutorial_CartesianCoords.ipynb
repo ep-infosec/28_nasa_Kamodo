{
 "cells": [
  {
   "cell_type": "markdown",
   "id": "9cede150",
   "metadata": {},
   "source": [
    "# Demo notebook for Kamodo's Reconstruction: Cartesian Coordinates\n",
    "This notebook tutorial shows how to fly a constellation of satellites through model data as a virtual reality, focusing on cartesian coordinate examples. Trajectories can be obtained either from the test GDC trajectory file or the flythrough trajectory functions. The GDC test trajectory was designed to be approximately stationary in GSE coordinates. See the Trajectory_Coord_Plots demo notebook for examples on flythrough trajectory options."
   ]
  },
  {
   "cell_type": "code",
   "execution_count": null,
   "id": "quiet-nirvana",
   "metadata": {
    "scrolled": false
   },
   "outputs": [],
   "source": [
    "# Get trajectory data from an old GDC trajectory file. \n",
    "from kamodo_ccmc.flythrough.Reconstruction_v0 import read_GDC_sattraj, RECON\n",
    "\n",
    "file_dict = read_GDC_sattraj('C:/Users/rringuet/Kamodo_env/Kamodo/docs/notebooks/KGS_orbit_data.txt')\n",
    "# coordinates in GDZ spherical: 'UTCtimestamps' in s, 'Longitude' in deg, 'Latitude' in deg, 'Altitude' in km\n",
    "print(file_dict['UTCtimestamps'].min(), file_dict['UTCtimestamps'].max())  # min and max for later comparison to data"
   ]
  },
  {
   "cell_type": "code",
   "execution_count": null,
   "id": "c17b9cf3",
   "metadata": {},
   "outputs": [],
   "source": [
    "# Find out what models are available\n",
    "# The models available through the flythrough are automatically available through the reconstruction function.\n",
    "from kamodo_ccmc.flythrough import model_wrapper as MW\n",
    "MW.Choose_Model('')"
   ]
  },
  {
   "cell_type": "code",
   "execution_count": null,
   "id": "94350b4c",
   "metadata": {},
   "outputs": [],
   "source": [
    "# For a given model, find out what time ranges are covered by the data in a given directory.\n",
    "model = 'GITM'\n",
    "file_dir = 'D:/GITM/Storm_201303/'  # change to match your machine\n",
    "times = MW.File_Times(model, file_dir)\n",
    "times[0].timestamp(), times[1].timestamp()\n",
    "# This function also automatically performs any data preparation needed."
   ]
  },
  {
   "cell_type": "code",
   "execution_count": null,
   "id": "64f0cce8",
   "metadata": {},
   "outputs": [],
   "source": [
    "# Shift times in example trajectory to match model data time range.\n",
    "# Reduce computation load by taking every third position\n",
    "# Some of the trajectory at the end will be automatically excluded later if not covered by the data.\n",
    "mask = range(0, len(file_dict['UTCtimestamps'])-1, 3)\n",
    "time_diff = file_dict['UTCtimestamps'][mask].min()-times[0].timestamp()\n",
    "file_dict['sat_time'] = file_dict['UTCtimestamps'][mask]-time_diff\n",
    "print(file_dict['sat_time'].min(), file_dict['sat_time'].max(), file_dict['sat_time'].shape, file_dict['UTCtimestamps'].shape)\n",
    "# Make sure the data you choose covers at least half the time range of the trajectory."
   ]
  },
  {
   "cell_type": "code",
   "execution_count": null,
   "id": "b3ac5290",
   "metadata": {},
   "outputs": [],
   "source": [
    "# Convert coordinates to system desired for reconstruction to take place in.\n",
    "# See Trajectory_Coords_Plots notebook for more details.\n",
    "from kamodo_ccmc.flythrough.utils import ConvertCoord\n",
    "coord_type, coord_grid = 'GEO', 'car'  # choose coordinate system to perform reconstruction in.\n",
    "c1, c2, c3, units = ConvertCoord(file_dict['sat_time'], file_dict['Longitude'][mask], file_dict['Latitude'][mask], \n",
    "                                 file_dict['Altitude'][mask], 'GDZ', 'sph', coord_type, coord_grid)"
   ]
  },
  {
   "cell_type": "code",
   "execution_count": null,
   "id": "b2264669",
   "metadata": {},
   "outputs": [],
   "source": [
    "# Bring up documentation for the reconstruction functionality.\n",
    "help(RECON)"
   ]
  },
  {
   "cell_type": "code",
   "execution_count": null,
   "id": "honey-geography",
   "metadata": {},
   "outputs": [],
   "source": [
    "# Choose inputs.\n",
    "variable_name = 'T_n'  # from chosen files above\n",
    "recon_dimensions = 'c1c2'  # X vs Y reconstruction for cartesian coordinates\n",
    "recon_option = 'UnMod_AvgSlice'\n",
    "# When working in cartesian coordinates, you must be careful with the AvgMod_... and ..._AvgSlice options. In this case, the \n",
    "#   default average Z is below the earth's surface (0.666966 R_E), which is not in the domain of the data.\n",
    "#   If these options are used, you will see simply a ring around the 'earth' on the respective plot\n",
    "#   showing the data at that Z-slice. Instead, use the Unmod_AvgDSlice option as a starting point. \n",
    "#   This means d1 (time resolution in s) and d2 (z resolution in R_E) must be set to indicate the \n",
    "#   slice intervals sampled in the averaging.\n",
    "# Selecting too fine resolution here can lead to memory errors.\n",
    "d1, d2 = 1800., 0.1\n",
    "\n",
    "# Set up constellation input:\n",
    "z_offsets = [0., 0.02, 0.04]  #3 satellites spaced about 2 degrees apart in latitude.\n",
    "# The offset lists give the offsets of the imaginary satellites with identical trajectories in the \n",
    "#  other dimensions (e.g. y and z). Offsets in height are also possible, but not popular.\n",
    "# Note: Make sure to include the offsets chosen in the next block.\n",
    "\n",
    "# Note: All offsets are combined to create a number of satellites equal to the multiplied length of each offset array.\n",
    "#   e.g. lon_offset, lat_offset, time_offset = [-10.,0.,10.], [-10.,0.,10.], [-300.,0.,300.]\n",
    "#   will yield a constellation of 27 satellites spaced as indicated by the offsets.\n",
    "\n",
    "# Choose the grid resolution of reconstruction. The finer the resolution, the longer the program takes to run and \n",
    "#   the more 'holes' you will see in the reconstructed plot. Physically, these should be set to the instrument's \n",
    "#   field of view in the units of the input coordinate system (e.g. degrees for R_E for X, Y, and Z, and seconds for\n",
    "#   time, etc).\n",
    "dx, dy = 0.1, 0.1  #Since recon_dimensions='c1c2', dx is resolution in X, and dy is the resolution in Y."
   ]
  },
  {
   "cell_type": "code",
   "execution_count": null,
   "id": "august-senator",
   "metadata": {},
   "outputs": [],
   "source": [
    "# Run the reconstruction.\n",
    "# This process typically takes up to a few minutes, but can take up to ~2 hours depending on the amount of data used,\n",
    "#  the grid resolution chosen, the reconstruction method chosen, and whether conversion to pressure level is required.\n",
    "#  As originally set, the process takes about 8 minutes.\n",
    "# Make sure to include all desired offsets in this block before executing.\n",
    "recon = RECON(model, variable_name, file_dir, file_dict['sat_time'], c1, c2, c3, coord_type, coord_grid,\n",
    "              recon_option, recon_dimensions, c3_offsets=z_offsets, dx=dx, dy=dy, d1=d1, d2=d2)"
   ]
  },
  {
   "cell_type": "code",
   "execution_count": null,
   "id": "macro-aspect",
   "metadata": {},
   "outputs": [],
   "source": [
    "# The output of the function is a Kamodo object with all of the default features described in documentation.\n",
    "# T_n is the reconstructed data from the constellation flythrough. T_n_model is the data from the model in the \n",
    "#  method chosen. PercentDiff is the percent difference between the two, calculated using \n",
    "#  PercentDiff = (T_n_model - T_n)/T_n_model*100.\n",
    "recon"
   ]
  },
  {
   "cell_type": "code",
   "execution_count": null,
   "id": "06d070e9",
   "metadata": {},
   "outputs": [],
   "source": [
    "# Show the reconstructed plot.\n",
    "# Note the plots shown are given in the coordinate system associated with the input trajectory.\n",
    "# Any gaps in the reconstructed plot indicate gaps in the satellite coverage of the plot grid chosen (dx and dy above),\n",
    "#   and also depend on the constellation arrangement.\n",
    "\n",
    "# recon.x and recon.y are the x and y grids of the plots.\n",
    "recon.plot(T_n = dict(Lon=recon.x, Lat=recon.y))"
   ]
  },
  {
   "cell_type": "code",
   "execution_count": null,
   "id": "e4fadf1e",
   "metadata": {},
   "outputs": [],
   "source": [
    "# Nicer version of same plot\n",
    "fig = recon.plot(T_n = dict(Lon=recon.x, Lat=recon.y))\n",
    "fig.update_traces(colorscale=\"Viridis\", ncontours=200, \n",
    "                  contours=dict(coloring=\"fill\",showlines=False))\n",
    "fig"
   ]
  },
  {
   "cell_type": "code",
   "execution_count": null,
   "id": "09a6e650",
   "metadata": {},
   "outputs": [],
   "source": [
    "# Show the corresponding model data\n",
    "recon.plot(T_n_model = dict(Lon=recon.x, Lat=recon.y))"
   ]
  },
  {
   "cell_type": "code",
   "execution_count": null,
   "id": "edf4cacc",
   "metadata": {},
   "outputs": [],
   "source": [
    "# Nicer version of same plot\n",
    "fig = recon.plot(T_n_model = dict(Lon=recon.x, Lat=recon.y))\n",
    "fig.update_traces(colorscale=\"Viridis\", ncontours=200, \n",
    "                  contours=dict(coloring=\"fill\",showlines=False))\n",
    "fig"
   ]
  },
  {
   "cell_type": "code",
   "execution_count": null,
   "id": "7463d1a5",
   "metadata": {},
   "outputs": [],
   "source": [
    "# Show the percent difference between the two. A percent difference of zero is an exact match.\n",
    "# How well the reconstructed plot matches the model plot not only depends on the constellation arrangement,\n",
    "#  but also on the reconstruction method chosen. The 'AvgMod_...' options typically result in the better\n",
    "#  matches, but are not physically representative of what the constellation will 'see' in real data because\n",
    "#  the two non-reconstructed dimensions are ignored in the input satellite trajectory (e.g. an average value \n",
    "#  for both Z and time are used instead of the full range for an X-Y reconstruction). The unmodified \n",
    "#  options ('Unmod_...') are thus recommended as the more physical comparison because the full set of input \n",
    "#  trajectory values are used.\n",
    "recon.plot(PercentDiff = dict(Lon=recon.x, Lat=recon.y))"
   ]
  },
  {
   "cell_type": "code",
   "execution_count": null,
   "id": "b5aaa3cc",
   "metadata": {},
   "outputs": [],
   "source": [
    "# Nicer version of same plot\n",
    "fig = recon.plot(PercentDiff = dict(Lon=recon.x, Lat=recon.y))\n",
    "fig.update_traces(colorscale=\"Viridis\", ncontours=200, \n",
    "                  contours=dict(coloring=\"fill\",showlines=False))\n",
    "fig"
   ]
  },
  {
   "cell_type": "code",
   "execution_count": null,
   "id": "adverse-sleeve",
   "metadata": {},
   "outputs": [],
   "source": [
    "# Retrieve the percent difference data values and show in a histogram, ignoring NaN values.\n",
    "# Some extra logic is required to automatically enforce bins of width 2%\n",
    "import numpy as np\n",
    "import matplotlib.pyplot as plt\n",
    "\n",
    "pdiff_data = recon.PercentDiff()\n",
    "data_min, data_max = np.floor(np.nanmin(pdiff_data)), np.ceil(np.nanmax(pdiff_data))\n",
    "num_bins = int((data_max-data_min)/2.)\n",
    "if num_bins<5:\n",
    "    num_bins=20\n",
    "hist, edges, patches = plt.hist(np.ravel(pdiff_data), range=(data_min, data_max),bins=num_bins)\n",
    "plt.xlabel('Percent Difference')\n",
    "plt.ylabel('Frequency')"
   ]
  },
  {
   "cell_type": "code",
   "execution_count": null,
   "id": "4513fef4",
   "metadata": {},
   "outputs": [],
   "source": []
  }
 ],
 "metadata": {
  "kernelspec": {
   "display_name": "Python 3 (ipykernel)",
   "language": "python",
   "name": "python3"
  },
  "language_info": {
   "codemirror_mode": {
    "name": "ipython",
    "version": 3
   },
   "file_extension": ".py",
   "mimetype": "text/x-python",
   "name": "python",
   "nbconvert_exporter": "python",
   "pygments_lexer": "ipython3",
   "version": "3.7.13"
  }
 },
 "nbformat": 4,
 "nbformat_minor": 5
}
