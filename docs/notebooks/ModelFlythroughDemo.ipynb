{
 "cells": [
  {
   "cell_type": "markdown",
   "id": "cadfb350",
   "metadata": {},
   "source": [
    "# Demo notebook for Kamodo Flythrough \"ModelFlythrough\" function\n",
    "The ModelFlythough function flies a user-supplied trajectory through the chosen model data. This is the function the other flythrough functions call once a trajectory is acquired. The blocks below demonstrate this by first getting a trajectory from one of the Kamodo trajectory functions - SatelliteTrajectory in this case - and can be done with any of the trajectory functions. See the Trajectory notebook for more details.\n",
    "You may run the notebook as is if you have the sample data file, but you must\n",
    "change the 'file_dir' variable in block 3 to have the correct file path. See the InputOutputDemo notebook for more information on what can be done once the results are functionalized. "
   ]
  },
  {
   "cell_type": "code",
   "execution_count": null,
   "id": "statewide-animation",
   "metadata": {},
   "outputs": [],
   "source": [
    "# Import satellite flythrough code\n",
    "from kamodo_ccmc.flythrough import SatelliteFlythrough as SF\n",
    "help(SF.ModelFlythrough)"
   ]
  },
  {
   "cell_type": "code",
   "execution_count": null,
   "id": "reflected-aggregate",
   "metadata": {},
   "outputs": [],
   "source": [
    "# Choosing input values for ModelFlythrough function call\n",
    "# ----------------------------  \n",
    "model = 'GITM'  # Choose which model to view the example for\n",
    "file_dir = 'D:/GITM/Storm_201303/'  # full file path to where the model output data is stored\n",
    "variable_list = ['T_n', 'rho', 'TEC', 'W_Joule', 'HmF2']  # list of desired variable names \n",
    "# Not all variables in the list will be available in the file(s) found.\n",
    "coord_sys = 'GEO-sph'  # GEO spherical coordinates as the sample coordinate system for trajectory\n",
    "# See https://sscweb.gsfc.nasa.gov/users_guide/Appendix_C.shtml for a description of coordinate types"
   ]
  },
  {
   "cell_type": "code",
   "execution_count": null,
   "id": "a6a56da5",
   "metadata": {},
   "outputs": [],
   "source": [
    "# Will use the SatelliteTrajectory function to get a trajectory for the example.\n",
    "help(SF.SatelliteTrajectory)"
   ]
  },
  {
   "cell_type": "code",
   "execution_count": null,
   "id": "eb7b0ab4",
   "metadata": {},
   "outputs": [],
   "source": [
    "# Pull a real satellite trajectory and change the time values to match the model data.\n",
    "import datetime as dt\n",
    "start_utcts = dt.datetime(2013, 3, 17, 0).replace(tzinfo=dt.timezone.utc).timestamp()\n",
    "end_utcts = dt.datetime(2013, 3, 18, 0).replace(tzinfo=dt.timezone.utc).timestamp()-1\n",
    "traj_dict, new_coord_sys = SF.SatelliteTrajectory('grace1', start_utcts, end_utcts, coord_type='GSE')\n",
    "\n",
    "# Change the time range by subtracting the time difference (one day in this example).\n",
    "new_time = traj_dict['sat_time'] - 86400.\n",
    "# The cartesian spatial coordinate time arrays are x=traj_dict['c1'], y=traj_dic['c2'], and z=traj_dict['c3']"
   ]
  },
  {
   "cell_type": "code",
   "execution_count": null,
   "id": "affecting-electronics",
   "metadata": {
    "scrolled": true
   },
   "outputs": [],
   "source": [
    "# Run ModelFlythrough with altered grace1 trajectory from SSCWeb\n",
    "results = SF.ModelFlythrough(model, file_dir, variable_list, new_time, traj_dict['c1'], \n",
    "                            traj_dict['c2'], traj_dict['c3'], new_coord_sys)"
   ]
  },
  {
   "cell_type": "code",
   "execution_count": null,
   "id": "informed-biology",
   "metadata": {},
   "outputs": [],
   "source": [
    "# Functionalize the output.\n",
    "kamodo_object = SF.O.Functionalize_SFResults(model, results)\n",
    "kamodo_object"
   ]
  },
  {
   "cell_type": "code",
   "execution_count": null,
   "id": "8fcc980a",
   "metadata": {},
   "outputs": [],
   "source": []
  }
 ],
 "metadata": {
  "kernelspec": {
   "display_name": "Python 3 (ipykernel)",
   "language": "python",
   "name": "python3"
  },
  "language_info": {
   "codemirror_mode": {
    "name": "ipython",
    "version": 3
   },
   "file_extension": ".py",
   "mimetype": "text/x-python",
   "name": "python",
   "nbconvert_exporter": "python",
   "pygments_lexer": "ipython3",
   "version": "3.7.13"
  }
 },
 "nbformat": 4,
 "nbformat_minor": 5
}
