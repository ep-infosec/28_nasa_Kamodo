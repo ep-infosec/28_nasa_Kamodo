{
 "cells": [
  {
   "cell_type": "markdown",
   "id": "a8b57859",
   "metadata": {},
   "source": [
    "# Reconstruction Tutorial - Irregular Constellations\n",
    "This notebook demonstrates how to perform a reconstruction for an irregular constellation. In general, the idea is to create or retrieve the trajectory, assemble the trajectories into a single one, and then give that to the reconstruction tool with no satellife offsets. For the example here, the trajectories for four DMSP satellites are retrieved during a storm in March of 2013. The reconstruction is performed using WAM-IPE data for the same storm obtained from https://ccmc.gsfc.nasa.gov/RoR_WWW/output_files/KAMODO_DEMO/."
   ]
  },
  {
   "cell_type": "raw",
   "id": "a66a58dd",
   "metadata": {},
   "source": [
    "DMSP orbits (copied from SSCWeb at https://sscweb.gsfc.nasa.gov/scansat.shtml) \n",
    " dmspf06            60 [1982 356 13.46667, 1987 361  0.00000]  definitive\n",
    " dmspf07            60 [1983 322 14.40000, 1988 363  0.00000]  definitive\n",
    " dmspf08            60 [1987 171  4.36667, 1994 256  8.00000]  definitive\n",
    " dmspf09            60 [1988  36 14.78333, 1992 364  0.00000]  definitive\n",
    " dmspf10            60 [1990 336  0.00000, 1999 255  0.00000]  definitive\n",
    " dmspf11            60 [1991 333  0.00000, 2003 252  0.00000]  definitive\n",
    " dmspf12            60 [1994 259  0.00000, 2003 252  0.00000]  definitive\n",
    " dmspf13            60 [1995 103  0.00000, 2010 128  0.00000]  definitive\n",
    " dmspf14            60 [1997 110  0.00000, 2010 317  0.00000]  definitive\n",
    " dmspf15            60 [1999 347  0.00000, 2022 268  0.00000]  definitive\n",
    " dmspf16            60 [2003 291  0.00000, 2022 268  0.00000]  definitive\n",
    " dmspf17            60 [2006 309 16.50000, 2022 268  0.00000]  definitive\n",
    " dmspf18            60 [2009 295  0.00000, 2022 268  0.00000]  definitive\n",
    " dmspf19            60 [2014  93  0.00000, 2014  94 20.76667]  predictive\n",
    "                       [2014  94 20.78333, 2016 318  0.00000]  definitive"
   ]
  },
  {
   "cell_type": "code",
   "execution_count": null,
   "id": "53acc3cb",
   "metadata": {},
   "outputs": [],
   "source": [
    "# What times are in the data chosen?\n",
    "import kamodo_ccmc.flythrough.model_wrapper as MW\n",
    "model, file_dir = 'WAMIPE', 'D:/WAMIPE/storm_201303/'\n",
    "times = MW.File_Times(model, file_dir)\n",
    "times, times[0].timestamp(), times[1].timestamp()"
   ]
  },
  {
   "cell_type": "markdown",
   "id": "6c8ad24a",
   "metadata": {},
   "source": [
    "The DMSP satellites flying during the March 2013 storm are dmspf15, dmspf16, dmspf17, and dmspf18. The trajectories for these satellites will be retrieved using the time boundaries from the chosen model data. Choose the coordinate system for input_coord you wish to perform the reconstruction in. Note that the coordinate conversion breaks in SpacePy for GSE -> GDZ due to a data size change caused by unknown reasons (https://github.com/spacepy/spacepy/issues/673). Given that most ITM model are aligned with the GDZ coordinate system, this will cause the code to break. For now, avoid reconstructing in GSE coordinates for ITM models aligned with the GDZ coordinate system."
   ]
  },
  {
   "cell_type": "code",
   "execution_count": null,
   "id": "f041140c",
   "metadata": {},
   "outputs": [],
   "source": [
    "# Choose a variable from the model data chosen.\n",
    "MW.Variable_Search('', model, file_dir)"
   ]
  },
  {
   "cell_type": "code",
   "execution_count": null,
   "id": "926c49b3",
   "metadata": {},
   "outputs": [],
   "source": [
    "# Import function to retrieve the DMSP trajectories from the SSCWeb.\n",
    "from kamodo_ccmc.flythrough import SatelliteFlythrough as SF\n",
    "# Typical coordinates possible through SSCWeb are GEO, GSE, SM, and GSM (all cartesian and in R_E).\n",
    "input_coord = 'GEO'\n",
    "traj_dict15, coord_type = SF.SatelliteTrajectory('dmspf15', times[0].timestamp(), times[1].timestamp(), coord_type=input_coord)\n",
    "traj_dict16, coord_type = SF.SatelliteTrajectory('dmspf16', times[0].timestamp(), times[1].timestamp(), coord_type=input_coord)\n",
    "traj_dict17, coord_type = SF.SatelliteTrajectory('dmspf17', times[0].timestamp(), times[1].timestamp(), coord_type=input_coord)\n",
    "traj_dict18, coord_type = SF.SatelliteTrajectory('dmspf18', times[0].timestamp(), times[1].timestamp(), coord_type=input_coord)"
   ]
  },
  {
   "cell_type": "code",
   "execution_count": null,
   "id": "1682b780",
   "metadata": {},
   "outputs": [],
   "source": [
    "# Assemble the trajectories into one input per coordinate\n",
    "import numpy as np\n",
    "time, X, Y, Z = traj_dict15['sat_time'], traj_dict15['c1'], traj_dict15['c2'], traj_dict15['c3']\n",
    "for item in [traj_dict16, traj_dict17, traj_dict18]:\n",
    "    time = np.append(time, item['sat_time'])\n",
    "    X = np.append(X, item['c1'])\n",
    "    Y = np.append(Y, item['c2'])\n",
    "    Z = np.append(Z, item['c3'])"
   ]
  },
  {
   "cell_type": "code",
   "execution_count": null,
   "id": "5912b42c",
   "metadata": {},
   "outputs": [],
   "source": [
    "# Plot the combined trajectory to have a look\n",
    "from kamodo_ccmc.flythrough.plots import SatPlot4D\n",
    "hrs = (time - time.min())/3600.\n",
    "SatPlot4D('utc_time', time, X, Y, Z, hrs, 'hr', input_coord, 'car', input_coord, 'all', 'DMSP15-18', body='black', type='3D')"
   ]
  },
  {
   "cell_type": "code",
   "execution_count": null,
   "id": "244f3771",
   "metadata": {},
   "outputs": [],
   "source": [
    "# Convert coordinates to system desired for reconstruction to take place in.\n",
    "# The trajectories were retrieved in GEO cartesian, and are converted to GEO spherical below.\n",
    "# See Trajectory_Coords_Plots notebook for more details.\n",
    "from kamodo_ccmc.flythrough.utils import ConvertCoord\n",
    "c1, c2, c3, units = ConvertCoord(time, X, Y, Z, input_coord, 'car', input_coord, 'sph') "
   ]
  },
  {
   "cell_type": "code",
   "execution_count": null,
   "id": "586df991",
   "metadata": {},
   "outputs": [],
   "source": [
    "from kamodo_ccmc.flythrough.Reconstruction_v0 import RECON\n",
    "help(RECON)"
   ]
  },
  {
   "cell_type": "markdown",
   "id": "209c1c95",
   "metadata": {},
   "source": [
    "Prepare inputs and settings for the reconstruction execution. The default offset values are zero, meaning that only one satellite is flown through by default. This is what we want here because the trajectories of all four satellites have been combined into one object"
   ]
  },
  {
   "cell_type": "code",
   "execution_count": null,
   "id": "573a76c0",
   "metadata": {},
   "outputs": [],
   "source": [
    "# Choose inputs.\n",
    "variable_name = 'TEC'  # from chosen files above\n",
    "recon_dimensions = 'c1c2'  # Longitude vs Latitude reconstruction for spherical coordinates\n",
    "recon_option = 'UnMod_AvgDSlice'\n",
    "\n",
    "# Choose the grid resolution of reconstruction. The finer the resolution, the longer the program takes to run and \n",
    "#   the more 'holes' you will see in the reconstructed plot. Physically, these should be set to the instrument's \n",
    "#   field of view in the units of the input coordinate system (e.g. degrees for longitude and latitude, seconds for\n",
    "#   time, etc).\n",
    "dx, dy = 4., 2.  # Since recon_dimensions='c1c1', dx is resolution in longitude, and dy is the resolution in latitude.\n",
    "d1, d2 = 3600., 1.0  # time and vertical"
   ]
  },
  {
   "cell_type": "code",
   "execution_count": null,
   "id": "ebc48496",
   "metadata": {
    "scrolled": true
   },
   "outputs": [],
   "source": [
    "# Run the reconstruction.\n",
    "recon = RECON(model, variable_name, file_dir, time, c1, c2, c3, input_coord, 'sph',\n",
    "              recon_option, recon_dimensions, dx=dx, dy=dy, d1=d1, d2=d2)\n",
    "recon"
   ]
  },
  {
   "cell_type": "code",
   "execution_count": null,
   "id": "5d7027fc",
   "metadata": {},
   "outputs": [],
   "source": [
    "# Show the reconstructed plot.\n",
    "# Note the plots shown are given in the coordinate system associated with the input trajectory.\n",
    "# Any gaps in the reconstructed plot indicate gaps in the satellite coverage of the plot grid chosen (dx and dy above),\n",
    "#   and also depend on the constellation arrangement.\n",
    "\n",
    "# recon.x and recon.y are the x and y grids of the plots.\n",
    "recon.plot(TEC=dict(Lon=recon.x, Lat=recon.y))"
   ]
  },
  {
   "cell_type": "code",
   "execution_count": null,
   "id": "d05b634d",
   "metadata": {},
   "outputs": [],
   "source": [
    "# Nicer version of same plot\n",
    "fig = recon.plot(TEC=dict(Lon=recon.x, Lat=recon.y))\n",
    "fig.update_traces(colorscale=\"Viridis\", ncontours=200, \n",
    "                  contours=dict(coloring=\"fill\",showlines=False))\n",
    "fig"
   ]
  },
  {
   "cell_type": "code",
   "execution_count": null,
   "id": "5baa572b",
   "metadata": {},
   "outputs": [],
   "source": [
    "# Show the corresponding model data\n",
    "recon.plot(TEC_model=dict(Lon=recon.x, Lat=recon.y))"
   ]
  },
  {
   "cell_type": "code",
   "execution_count": null,
   "id": "f37f6725",
   "metadata": {},
   "outputs": [],
   "source": [
    "# Nicer version of same plot\n",
    "fig = recon.plot(TEC_model=dict(Lon=recon.x, Lat=recon.y))\n",
    "fig.update_traces(colorscale=\"Viridis\", ncontours=200, \n",
    "                  contours=dict(coloring=\"fill\",showlines=False))\n",
    "fig"
   ]
  },
  {
   "cell_type": "code",
   "execution_count": null,
   "id": "0c9d24aa",
   "metadata": {},
   "outputs": [],
   "source": [
    "# Show the percent difference between the two. A percent difference of zero is an exact match.\n",
    "# How well the reconstructed plot matches the model plot not only depends on the constellation arrangement,\n",
    "#  but also on the reconstruction method chosen. The 'AvgMod_...' options typically result in the better\n",
    "#  matches, but are not physically representative of what the constellation will 'see' in real data because\n",
    "#  the two non-reconstructed dimensions are ignored in the input satellite trajectory (e.g. an average value \n",
    "#  for both height and time are used instead of the full range for a Lon-Lat reconstruction). The unmodified \n",
    "#  options ('Unmod_...') are thus recommended as the more physical comparison because the full set of input \n",
    "#  trajectory values are used.\n",
    "recon.plot(PercentDiff=dict(Lon=recon.x,Lat=recon.y))"
   ]
  },
  {
   "cell_type": "code",
   "execution_count": null,
   "id": "e7f2d509",
   "metadata": {},
   "outputs": [],
   "source": [
    "# Nicer version of same plot\n",
    "fig = recon.plot(PercentDiff=dict(Lon=recon.x, Lat=recon.y))\n",
    "fig.update_traces(colorscale=\"Viridis\", ncontours=200, \n",
    "                  contours=dict(coloring=\"fill\",showlines=False))\n",
    "fig"
   ]
  },
  {
   "cell_type": "code",
   "execution_count": null,
   "id": "7658bbc3",
   "metadata": {},
   "outputs": [],
   "source": [
    "# Retrieve the percent difference data values and show in a histogram, ignoring NaN values.\n",
    "# Some extra logic is required to automatically enforce bins of width 2%\n",
    "import numpy as np\n",
    "import matplotlib.pyplot as plt\n",
    "\n",
    "pdiff_data = recon.PercentDiff()\n",
    "data_min, data_max = np.floor(np.nanmin(pdiff_data)), np.ceil(np.nanmax(pdiff_data))\n",
    "num_bins = int((data_max-data_min)/2.)\n",
    "if num_bins < 5:\n",
    "    num_bins = 20\n",
    "hist, edges, patches = plt.hist(np.ravel(pdiff_data), range=(data_min, data_max), bins=num_bins)\n",
    "plt.xlabel('Percent Difference')\n",
    "plt.ylabel('Frequency')"
   ]
  },
  {
   "cell_type": "code",
   "execution_count": null,
   "id": "5b6f03f3",
   "metadata": {},
   "outputs": [],
   "source": []
  }
 ],
 "metadata": {
  "kernelspec": {
   "display_name": "Python 3 (ipykernel)",
   "language": "python",
   "name": "python3"
  },
  "language_info": {
   "codemirror_mode": {
    "name": "ipython",
    "version": 3
   },
   "file_extension": ".py",
   "mimetype": "text/x-python",
   "name": "python",
   "nbconvert_exporter": "python",
   "pygments_lexer": "ipython3",
   "version": "3.7.13"
  }
 },
 "nbformat": 4,
 "nbformat_minor": 5
}
