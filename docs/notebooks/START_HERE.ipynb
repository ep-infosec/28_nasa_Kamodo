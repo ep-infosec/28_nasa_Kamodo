{
 "cells": [
  {
   "cell_type": "markdown",
   "metadata": {},
   "source": [
    "# Beginner's Tutorial\n",
    "You may run the notebook as is if you have the sample data file, but you must change the 'file_dir' variable in block 5 to have the correct file path. Try changing the model, variable type, variable names, plotting values, and so on to interact with the data. All of the model readers have identical syntax and function, so you can choose any model reader and expect the same results. Execution time varies between datasets.\n",
    "Sample datasets may be obtained from https://ccmc.gsfc.nasa.gov/RoR_WWW/output_files/KAMODO_DEMO/. For examples of other functions, such as the flythrough, see the other notebooks in this directory."
   ]
  },
  {
   "cell_type": "code",
   "execution_count": null,
   "metadata": {},
   "outputs": [],
   "source": [
    "# Show list of models currently available.\n",
    "import kamodo_ccmc.flythrough.model_wrapper as MW\n",
    "MW.Choose_Model('')"
   ]
  },
  {
   "cell_type": "code",
   "execution_count": null,
   "metadata": {},
   "outputs": [],
   "source": [
    "# Access documentation.\n",
    "help(MW.Variable_Search)"
   ]
  },
  {
   "cell_type": "code",
   "execution_count": null,
   "metadata": {},
   "outputs": [],
   "source": [
    "# Show all the possible variables\n",
    "MW.Variable_Search('')"
   ]
  },
  {
   "cell_type": "code",
   "execution_count": null,
   "metadata": {},
   "outputs": [],
   "source": [
    "# Find what model has the variable.\n",
    "MW.Variable_Search('temperature')"
   ]
  },
  {
   "cell_type": "code",
   "execution_count": null,
   "metadata": {},
   "outputs": [],
   "source": [
    "# The same output, but only for the requested model.\n",
    "model = 'CTIPe'\n",
    "MW.Variable_Search('temperature', model=model)"
   ]
  },
  {
   "cell_type": "code",
   "execution_count": null,
   "metadata": {
    "scrolled": true
   },
   "outputs": [],
   "source": [
    "# But I just want to see the variables from CTIPe...\n",
    "MW.Variable_Search('', model=model)"
   ]
  },
  {
   "cell_type": "markdown",
   "metadata": {},
   "source": [
    "### IMPORTANT!\n",
    "Change the file_dir variable in the next cell to be the file path to the chosen dataset before running."
   ]
  },
  {
   "cell_type": "code",
   "execution_count": null,
   "metadata": {
    "scrolled": true
   },
   "outputs": [],
   "source": [
    "# That's a lot, but what is in my data?\n",
    "file_dir = 'C:/Users/rringuet/Kamodo_Data/CTIPe/Storm_201303/'\n",
    "# This command and any call to MW.Variable_Search that includes the file_dir\n",
    "# also performs any file conversion or pre-processing necessary.\n",
    "MW.Variable_Search('', model=model, file_dir=file_dir)"
   ]
  },
  {
   "cell_type": "code",
   "execution_count": null,
   "metadata": {},
   "outputs": [],
   "source": [
    "# Find available temperature variables in the chosen CTIPe data.\n",
    "MW.Variable_Search('temperature', model=model, file_dir=file_dir)"
   ]
  },
  {
   "cell_type": "code",
   "execution_count": null,
   "metadata": {},
   "outputs": [],
   "source": [
    "# What are the time ranges available in my data?\n",
    "MW.File_Times(model, file_dir)"
   ]
  },
  {
   "cell_type": "markdown",
   "metadata": {},
   "source": [
    "# IMPORTANT!\n",
    "- If you decide to add or remove data from the chosen file directory, you must remove the TIEGCM_list.txt and TIEGCM_times.txt files from the same directory and rerun the above command. The name changes with the model name (e.g. WACCMX_list.txt and WACCMX_times.txt for the WACCMX model).\n",
    "- The rest of the notebook shows how to use the model readers. If your interest is in a different function, please move on to the notebook of your choice."
   ]
  },
  {
   "cell_type": "code",
   "execution_count": null,
   "metadata": {},
   "outputs": [],
   "source": [
    "# Import the correct model reader object.\n",
    "reader = MW.Model_Reader(model)"
   ]
  },
  {
   "cell_type": "code",
   "execution_count": null,
   "metadata": {
    "scrolled": true
   },
   "outputs": [],
   "source": [
    "# Documentation for all the readers is the same.\n",
    "help(reader)"
   ]
  },
  {
   "cell_type": "code",
   "execution_count": null,
   "metadata": {},
   "outputs": [],
   "source": [
    "# Access the model data for the chosen model.\n",
    "# This default function call functionalizes all the variables in the data,\n",
    "# including gridded versions for visualization.\n",
    "# TIEGCM has a data type error due to a file creation error.\n",
    "kamodo_object_default = reader(file_dir)  # (gridded_int=True is default)\n",
    "kamodo_object_default"
   ]
  },
  {
   "cell_type": "code",
   "execution_count": null,
   "metadata": {},
   "outputs": [],
   "source": [
    "# Note the arg_units column of each variable shows the coordinate names\n",
    "# and units even if this information is not indicated in the function\n",
    "# signature.\n",
    "kamodo_object_default.detail()"
   ]
  },
  {
   "cell_type": "code",
   "execution_count": null,
   "metadata": {},
   "outputs": [],
   "source": [
    "# Option 1: functionalize all variables, excluding gridded versions.\n",
    "kamodo_object_1 = reader(file_dir, gridded_int=False)\n",
    "kamodo_object_1"
   ]
  },
  {
   "cell_type": "code",
   "execution_count": null,
   "metadata": {},
   "outputs": [],
   "source": [
    "# Option 2: load a single or multiple variables with the gridded versions.\n",
    "# This is the most common method to functionalize the desired data.\n",
    "kamodo_object_2 = reader(file_dir, variables_requested=['T_n', 'T_i'])\n",
    "kamodo_object_2"
   ]
  },
  {
   "cell_type": "markdown",
   "metadata": {},
   "source": [
    "## Note:\n",
    "- The T_n variable as found in the data depends on pressure level (T_n_ilev). An alternate version of the variable was automatically created to depend on height (T_n) by inverting the height variable (H_ilev1), which was also automatically retrieved.\n",
    "- The T_i variable already depends on height, so no inversion was needed.\n",
    "- Requesting variables that are NOT in the list above triggers a printed message: '... name not recognized'.\n",
    "- Requesting variables that ARE in the list above but not in the file triggers a printed message: '...not available'."
   ]
  },
  {
   "cell_type": "code",
   "execution_count": null,
   "metadata": {},
   "outputs": [],
   "source": [
    "# Option 3: load a single or multiple variables without gridded version.\n",
    "# This is what is used in Kamodo's flythrough.\n",
    "kamodo_object_3 = reader(file_dir, variables_requested=['T_n', 'T_i'], gridded_int=False)\n",
    "kamodo_object_3"
   ]
  },
  {
   "cell_type": "code",
   "execution_count": null,
   "metadata": {},
   "outputs": [],
   "source": [
    "# Show datetime object for midnight of the first day of the dataset.\n",
    "kamodo_object_default.filedate"
   ]
  },
  {
   "cell_type": "code",
   "execution_count": null,
   "metadata": {},
   "outputs": [],
   "source": [
    "# Print max and min of coordinate grids. Coordinate units are shown in the above blocks.\n",
    "from kamodo import get_defaults\n",
    "for var in ['T_n', 'T_i']:\n",
    "    print('\\n', var)\n",
    "    defaults_ijk = get_defaults(kamodo_object_2[var+'_ijk'])\n",
    "    for key in defaults_ijk:\n",
    "        print(key, len(defaults_ijk[key]), defaults_ijk[key].min(), defaults_ijk[key].max())"
   ]
  },
  {
   "cell_type": "code",
   "execution_count": null,
   "metadata": {},
   "outputs": [],
   "source": [
    "# An example of Kamodo's default 2D plot.\n",
    "# The undefined areas of the plot are due to the changing height corresponding to the \n",
    "# pressure level that the original neutral temperature variable depends on. This is normal.\n",
    "kamodo_object_default.plot('T_n_ijk', plot_partial={'T_n_ijk': {'time': 22.5, 'height': 350.}})"
   ]
  },
  {
   "cell_type": "code",
   "execution_count": null,
   "metadata": {},
   "outputs": [],
   "source": [
    "# Nicer version (coming soon as an option with simpler code).\n",
    "fig = kamodo_object_default.plot('T_n_ijk', plot_partial={'T_n_ijk': {'time': 22.5, 'height': 350.}})\n",
    "fig.update_traces(colorscale=\"Viridis\", ncontours=200, \n",
    "                  contours=dict(coloring=\"fill\",showlines=False))\n",
    "fig"
   ]
  },
  {
   "cell_type": "code",
   "execution_count": null,
   "metadata": {},
   "outputs": [],
   "source": [
    "# Example of a 1D plot with more than one variable.\n",
    "kamodo_object_default.plot('T_n_ijk', 'T_i_ijk',\n",
    "                           plot_partial={'T_n_ijk': {'time': 22.5, 'lon': 2.5, 'height': 350.},\n",
    "                                         'T_i_ijk': {'time': 22.5, 'lon': 2.5, 'height': 350.}})"
   ]
  },
  {
   "cell_type": "code",
   "execution_count": null,
   "metadata": {},
   "outputs": [],
   "source": [
    "# Example of interpolation command for two points for a regular function.\n",
    "# This is the method used in Kamodo's flythrough\n",
    "kamodo_object_default['T_n']([[22.5, -20.5, -20.5, 350.], [22.7, -20.5, -20.5, 350.]])"
   ]
  },
  {
   "cell_type": "code",
   "execution_count": null,
   "metadata": {},
   "outputs": [],
   "source": [
    "# Example of interpolation command for a gridded function.\n",
    "# The value will be the same two values as the previous block's result.\n",
    "# The gridded functions slice through the data at the values given.\n",
    "kamodo_object_default['T_n_ijk'](time=[22.5, 22.7], lon=-20.5, lat=-20.5, height=350.)"
   ]
  },
  {
   "cell_type": "code",
   "execution_count": null,
   "metadata": {},
   "outputs": [],
   "source": []
  }
 ],
 "metadata": {
  "kernelspec": {
   "display_name": "Python 3 (ipykernel)",
   "language": "python",
   "name": "python3"
  },
  "language_info": {
   "codemirror_mode": {
    "name": "ipython",
    "version": 3
   },
   "file_extension": ".py",
   "mimetype": "text/x-python",
   "name": "python",
   "nbconvert_exporter": "python",
   "pygments_lexer": "ipython3",
   "version": "3.7.13"
  }
 },
 "nbformat": 4,
 "nbformat_minor": 2
}
